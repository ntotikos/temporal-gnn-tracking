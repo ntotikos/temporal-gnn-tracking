{
 "cells": [
  {
   "cell_type": "markdown",
   "id": "dcdc126d",
   "metadata": {},
   "source": [
    "# Temporal Graph Data Generation for Single-Camera MOT\n",
    "In this notebook, we are going to generate the temporal graph dataset for the MOT task. Based on the previously preprocessed data the required manipulations are performed. For the sake of simplicity, a single camera scenario is considered. "
   ]
  },
  {
   "cell_type": "code",
   "execution_count": 1,
   "id": "8b50d647",
   "metadata": {},
   "outputs": [],
   "source": [
    "import pickle\n",
    "import numpy as np\n",
    "import pandas as pd"
   ]
  },
  {
   "cell_type": "code",
   "execution_count": 2,
   "id": "768faf85",
   "metadata": {},
   "outputs": [],
   "source": [
    "# pre-set the number of frames we want to look at \n",
    "n_frames = 10"
   ]
  },
  {
   "cell_type": "markdown",
   "id": "8d05a964",
   "metadata": {},
   "source": [
    "### 1. Load in the Preprocessed Data\n",
    "There are 400 frames for each camera in the dataset. Each frame exhibits several cropped boxes or rather pedestrians. For a single camera, 400 frames mean that there are 400 time steps available. In each time step we extract a snapshot of the underlying graph. Compared to the Chickenpox Dataset which has 517 snapshots, our dataset will only have 400 snapshots. "
   ]
  },
  {
   "cell_type": "code",
   "execution_count": 3,
   "id": "c5758d67",
   "metadata": {},
   "outputs": [],
   "source": [
    "with open('saved_dictionary-C1.pkl', 'rb') as f:\n",
    "    loaded_dict = pickle.load(f)"
   ]
  },
  {
   "cell_type": "markdown",
   "id": "5f835bb1",
   "metadata": {},
   "source": [
    "We extract the re-id features and additional information from the loaded dictionary `loaded_dict`. In order to split the data into several snapshots, we need to determine the number of elements corresponding to the same `frame_ID`. The dictionary `snapshot_dict` is only one possibility to do so. "
   ]
  },
  {
   "cell_type": "code",
   "execution_count": 4,
   "id": "0469f0eb",
   "metadata": {},
   "outputs": [],
   "source": [
    "re_id, person_ID, frame_ID, name, cam_ID = zip(*([loaded_dict[i][0], loaded_dict[i][1], \n",
    "                                                  loaded_dict[i][2], loaded_dict[i][3], \n",
    "                                                  loaded_dict[i][4]] for i in loaded_dict))\n",
    "snapshot_dict = {int(i):frame_ID.count(i) for i in frame_ID}"
   ]
  },
  {
   "cell_type": "markdown",
   "id": "9af3e40d",
   "metadata": {},
   "source": [
    "### 2. Define the General Graph Topology \n",
    "It is crucial to know what information is actually needed to perform a specific task. Since we are going to prepare the temporal graph data for a link prediction task, here is one suggestion for how the graph components may be defined. \n",
    "\n",
    "| Graph Information | Equivalent Information | \n",
    "| :---   | :---     |\n",
    "| Nodes | Persons |\n",
    "| Edges | Connections |\n",
    "| Node Features | ReID feature vectors of length 2048 |\n",
    "| Targets (Node Labels) | Person ID |\n",
    "| Edge Labels | 1 if the connected nodes represent the same person. Else 0.|\n",
    "| Edge Weights | All-Ones vectors to specify unweighted graph. |\n",
    "| Time Step | 1 Frame |\n",
    "| Temporal Graph Type | Dynamic growing graph |\n",
    "\n",
    "Note that our graph strictly grows and that every node will remain part of the graph. Further, in our case edge labels and edge features are the same. \n",
    "\n",
    "### 3. Create Edge list and Edge Labels\n",
    "Now, we have to think about which nodes shall be connected. This information shall be stored in an edge list in COO format. My intuition was to connect every node with each other but this would result in a completed graph with obviously irrelevant connections. My second attempt was motivated by the desire to keep the number of connections as low as possible, thereby reducing the overall computation cost. Here is what I came up with:\n",
    "- Observation 1: there won't be any connection between new nodes from the same time step, since a node represents a specific person and (s)he won't appear twice in the same frame (in the multi-camera MOT case this doesn't hold anymore!).\n",
    "- Observation 2: if the term historic nodes refers to nodes from past snapshots we need to connect every historic node with every new node. \n",
    "\n",
    "The most relevant information for defining the edges and their labels is the `person_ID`. An ideal graph model would label the edges between nodes that have the same `person_ID` with a `1` and all others with `0`. Since in the real world we don't know the person's ID we cannot perform this node prediction and have to switch to the alternative link label prediction. The model might learn from the node features how to find similarities between nodes without knowing their actual person ID. \n",
    "\n",
    "We first determine the number of cropped boxes, i.e. the number of pedestrians, that are newly detected in each snapshot. Based on that we can determine the number of all nodes within each snapshot. The value `31` at position `1` in `num_cropped_boxes` signalizes that there are 31 new nodes in snapshot 1. The value `126` at position `3` in `num_nodes` means that there are 126 nodes in the graph snapshot at t = 3. "
   ]
  },
  {
   "cell_type": "code",
   "execution_count": 5,
   "id": "1b2a3070",
   "metadata": {},
   "outputs": [
    {
     "data": {
      "text/plain": [
       "[32, 31, 30, 33, 33, 33, 30, 30, 31, 31]"
      ]
     },
     "execution_count": 5,
     "metadata": {},
     "output_type": "execute_result"
    }
   ],
   "source": [
    "num_cropped_boxes = []\n",
    "for i in range(1,n_frames+1):\n",
    "    num_cropped_boxes.append(snapshot_dict[i])\n",
    "num_cropped_boxes "
   ]
  },
  {
   "cell_type": "code",
   "execution_count": 6,
   "id": "9cb4c2d7",
   "metadata": {},
   "outputs": [
    {
     "data": {
      "text/plain": [
       "[32, 63, 93, 126, 159, 192, 222, 252, 283, 314]"
      ]
     },
     "execution_count": 6,
     "metadata": {},
     "output_type": "execute_result"
    }
   ],
   "source": [
    "num_nodes = [num_cropped_boxes[0] if i == 1 else sum(num_cropped_boxes[0:i]) for i in range(1,n_frames+1)]\n",
    "num_nodes "
   ]
  },
  {
   "cell_type": "markdown",
   "id": "781d3ca8",
   "metadata": {},
   "source": [
    "#### Create DataFrame Objects Containing the Mapping between Person's ID and Integer\n",
    "The function `create_n_dataframes` creates as many pandas `DataFrame` objects as specified in the argument. Each dataframe corresponds to one snapshot and has as many rows as nodes are in the graph snapshot, respectively. We map the person's ID to a `node_ID` to emphasize the node order. Particularlym this step assigns integer values to the node labels and enables us to have different node ID's for the same node label if the same person appears in more than one time instance. "
   ]
  },
  {
   "cell_type": "code",
   "execution_count": 7,
   "id": "b018c3eb",
   "metadata": {},
   "outputs": [],
   "source": [
    "def create_n_dataframes(n):\n",
    "    for i in range(n):\n",
    "        nodeID_personID_dict = {'node_ID': range(num_nodes[i]), 'person_ID': person_ID[:num_nodes[i]]}\n",
    "        exec(f'''global df_{i} \n",
    "df_{i} = pd.DataFrame(nodeID_personID_dict)''')"
   ]
  },
  {
   "cell_type": "code",
   "execution_count": 8,
   "id": "39a9ab5f",
   "metadata": {
    "scrolled": true
   },
   "outputs": [],
   "source": [
    "create_n_dataframes(n_frames)"
   ]
  },
  {
   "cell_type": "markdown",
   "id": "bc6520ee",
   "metadata": {},
   "source": [
    "Calling this function creates as many dataframes as specified in `n_frames`. Note that you can access them easily by running the following code snippet."
   ]
  },
  {
   "cell_type": "code",
   "execution_count": 9,
   "id": "3fac8024",
   "metadata": {
    "scrolled": true
   },
   "outputs": [
    {
     "data": {
      "text/html": [
       "<div>\n",
       "<style scoped>\n",
       "    .dataframe tbody tr th:only-of-type {\n",
       "        vertical-align: middle;\n",
       "    }\n",
       "\n",
       "    .dataframe tbody tr th {\n",
       "        vertical-align: top;\n",
       "    }\n",
       "\n",
       "    .dataframe thead th {\n",
       "        text-align: right;\n",
       "    }\n",
       "</style>\n",
       "<table border=\"1\" class=\"dataframe\">\n",
       "  <thead>\n",
       "    <tr style=\"text-align: right;\">\n",
       "      <th></th>\n",
       "      <th>node_ID</th>\n",
       "      <th>person_ID</th>\n",
       "    </tr>\n",
       "  </thead>\n",
       "  <tbody>\n",
       "    <tr>\n",
       "      <th>0</th>\n",
       "      <td>0</td>\n",
       "      <td>0000</td>\n",
       "    </tr>\n",
       "    <tr>\n",
       "      <th>1</th>\n",
       "      <td>1</td>\n",
       "      <td>0001</td>\n",
       "    </tr>\n",
       "    <tr>\n",
       "      <th>2</th>\n",
       "      <td>2</td>\n",
       "      <td>0002</td>\n",
       "    </tr>\n",
       "    <tr>\n",
       "      <th>3</th>\n",
       "      <td>3</td>\n",
       "      <td>0003</td>\n",
       "    </tr>\n",
       "    <tr>\n",
       "      <th>4</th>\n",
       "      <td>4</td>\n",
       "      <td>0004</td>\n",
       "    </tr>\n",
       "    <tr>\n",
       "      <th>...</th>\n",
       "      <td>...</td>\n",
       "      <td>...</td>\n",
       "    </tr>\n",
       "    <tr>\n",
       "      <th>309</th>\n",
       "      <td>309</td>\n",
       "      <td>0043</td>\n",
       "    </tr>\n",
       "    <tr>\n",
       "      <th>310</th>\n",
       "      <td>310</td>\n",
       "      <td>0044</td>\n",
       "    </tr>\n",
       "    <tr>\n",
       "      <th>311</th>\n",
       "      <td>311</td>\n",
       "      <td>0122</td>\n",
       "    </tr>\n",
       "    <tr>\n",
       "      <th>312</th>\n",
       "      <td>312</td>\n",
       "      <td>0151</td>\n",
       "    </tr>\n",
       "    <tr>\n",
       "      <th>313</th>\n",
       "      <td>313</td>\n",
       "      <td>0383</td>\n",
       "    </tr>\n",
       "  </tbody>\n",
       "</table>\n",
       "<p>314 rows × 2 columns</p>\n",
       "</div>"
      ],
      "text/plain": [
       "     node_ID person_ID\n",
       "0          0      0000\n",
       "1          1      0001\n",
       "2          2      0002\n",
       "3          3      0003\n",
       "4          4      0004\n",
       "..       ...       ...\n",
       "309      309      0043\n",
       "310      310      0044\n",
       "311      311      0122\n",
       "312      312      0151\n",
       "313      313      0383\n",
       "\n",
       "[314 rows x 2 columns]"
      ]
     },
     "execution_count": 9,
     "metadata": {},
     "output_type": "execute_result"
    }
   ],
   "source": [
    "df_9"
   ]
  },
  {
   "cell_type": "markdown",
   "id": "26aeebed",
   "metadata": {},
   "source": [
    "#### Create DataFrame Objects Containing the Stacked Temporal Graph Data\n",
    "\n",
    "This DataFrame shall contain the edges for all snapshots. The final output `df_edges` contains all edges in the final snapshot. For the extraction, we exploit observation 1 and observation 2 from above. The general procedure in each time step looks as follows: \n",
    "- determine all new nodes and the historic nodes \n",
    "- use the cartesian product to get all possible combinations between the historic nodes and new nodes \n",
    "- create a dataframe `df_new_edges` based on the cartesian product and \n",
    "- stack new edges (`df_new_edges`) on historic edges `df_stack` \n",
    "\n",
    "At t = 0, we don't have historic nodes and no connections between nodes shall be established. Remember: there is no edge between new nodes, and in this case we only have new nodes. The dataframe for t = 0 therefore is generated using the cartesian product of `df_0` with itself. We add a new column called `'edge'` and set the value for each of the node pairs to zero to indicate that there is no edge. \n",
    "\n",
    "Note: we re-assign variable df_stack in each iteration with the concatenated dataframe and do NOT append. Therefore, we are going to extract the edges for each snapshot using a fixed lower bound and a moving upper bound for indexing. "
   ]
  },
  {
   "cell_type": "code",
   "execution_count": 10,
   "id": "01dd4d4b",
   "metadata": {},
   "outputs": [],
   "source": [
    "def generate_temporal_dataframes(num_frames): \n",
    "    # dataframe based on cartesian product at t = 0; df_stack will be used as historic nodes\n",
    "    df_stack = df_0.merge(df_0,how='cross')  \n",
    "    \n",
    "    # dataframe based on cartesian product plus additional column 'edge' at t = 0\n",
    "    df_edges = df_stack.copy()\n",
    "    df_edges['edge'] = False  \n",
    "     \n",
    "    for i in range(1,num_frames):\n",
    "        # dataframe containing all new nodes in each time step\n",
    "        exec(f'''global new_nodes\n",
    "new_nodes = df_{i}[num_nodes[i-1]:num_nodes[i]+1]''')\n",
    "        \n",
    "        # dataframe based on cartesian product of new nodes and historic nodes in each time step t > 0\n",
    "        exec(f'''global df_new_edges\n",
    "df_new_edges = df_{i-1}.merge(new_nodes,how='cross')''')        \n",
    "        \n",
    "        # dataframe containing the new set of historic nodes for the next iteration\n",
    "        df_stack = pd.concat([df_stack,df_new_edges], ignore_index=True)\n",
    "        \n",
    "        df_new_edges['edge'] = True\n",
    "        df_edges = pd.concat([df_edges,df_new_edges])\n",
    "    return df_stack,df_edges  "
   ]
  },
  {
   "cell_type": "markdown",
   "id": "b51d4d75",
   "metadata": {},
   "source": [
    "Call the function and check whether both returned dataframes contain the same column `'node_ID_x'`."
   ]
  },
  {
   "cell_type": "code",
   "execution_count": 11,
   "id": "6a18c035",
   "metadata": {
    "scrolled": true
   },
   "outputs": [
    {
     "data": {
      "text/plain": [
       "True"
      ]
     },
     "execution_count": 11,
     "metadata": {},
     "output_type": "execute_result"
    }
   ],
   "source": [
    "a,b = generate_temporal_dataframes(n_frames)\n",
    "np.array_equal(a['node_ID_x'], b['node_ID_x'])"
   ]
  },
  {
   "cell_type": "code",
   "execution_count": 12,
   "id": "2f7e5432",
   "metadata": {
    "scrolled": false
   },
   "outputs": [
    {
     "data": {
      "text/html": [
       "<div>\n",
       "<style scoped>\n",
       "    .dataframe tbody tr th:only-of-type {\n",
       "        vertical-align: middle;\n",
       "    }\n",
       "\n",
       "    .dataframe tbody tr th {\n",
       "        vertical-align: top;\n",
       "    }\n",
       "\n",
       "    .dataframe thead th {\n",
       "        text-align: right;\n",
       "    }\n",
       "</style>\n",
       "<table border=\"1\" class=\"dataframe\">\n",
       "  <thead>\n",
       "    <tr style=\"text-align: right;\">\n",
       "      <th></th>\n",
       "      <th>node_ID_x</th>\n",
       "      <th>person_ID_x</th>\n",
       "      <th>node_ID_y</th>\n",
       "      <th>person_ID_y</th>\n",
       "      <th>edge</th>\n",
       "    </tr>\n",
       "  </thead>\n",
       "  <tbody>\n",
       "    <tr>\n",
       "      <th>0</th>\n",
       "      <td>0</td>\n",
       "      <td>0000</td>\n",
       "      <td>0</td>\n",
       "      <td>0000</td>\n",
       "      <td>False</td>\n",
       "    </tr>\n",
       "    <tr>\n",
       "      <th>1</th>\n",
       "      <td>0</td>\n",
       "      <td>0000</td>\n",
       "      <td>1</td>\n",
       "      <td>0001</td>\n",
       "      <td>False</td>\n",
       "    </tr>\n",
       "    <tr>\n",
       "      <th>2</th>\n",
       "      <td>0</td>\n",
       "      <td>0000</td>\n",
       "      <td>2</td>\n",
       "      <td>0002</td>\n",
       "      <td>False</td>\n",
       "    </tr>\n",
       "    <tr>\n",
       "      <th>3</th>\n",
       "      <td>0</td>\n",
       "      <td>0000</td>\n",
       "      <td>3</td>\n",
       "      <td>0003</td>\n",
       "      <td>False</td>\n",
       "    </tr>\n",
       "    <tr>\n",
       "      <th>4</th>\n",
       "      <td>0</td>\n",
       "      <td>0000</td>\n",
       "      <td>4</td>\n",
       "      <td>0004</td>\n",
       "      <td>False</td>\n",
       "    </tr>\n",
       "    <tr>\n",
       "      <th>...</th>\n",
       "      <td>...</td>\n",
       "      <td>...</td>\n",
       "      <td>...</td>\n",
       "      <td>...</td>\n",
       "      <td>...</td>\n",
       "    </tr>\n",
       "    <tr>\n",
       "      <th>8768</th>\n",
       "      <td>282</td>\n",
       "      <td>0383</td>\n",
       "      <td>309</td>\n",
       "      <td>0043</td>\n",
       "      <td>True</td>\n",
       "    </tr>\n",
       "    <tr>\n",
       "      <th>8769</th>\n",
       "      <td>282</td>\n",
       "      <td>0383</td>\n",
       "      <td>310</td>\n",
       "      <td>0044</td>\n",
       "      <td>True</td>\n",
       "    </tr>\n",
       "    <tr>\n",
       "      <th>8770</th>\n",
       "      <td>282</td>\n",
       "      <td>0383</td>\n",
       "      <td>311</td>\n",
       "      <td>0122</td>\n",
       "      <td>True</td>\n",
       "    </tr>\n",
       "    <tr>\n",
       "      <th>8771</th>\n",
       "      <td>282</td>\n",
       "      <td>0383</td>\n",
       "      <td>312</td>\n",
       "      <td>0151</td>\n",
       "      <td>True</td>\n",
       "    </tr>\n",
       "    <tr>\n",
       "      <th>8772</th>\n",
       "      <td>282</td>\n",
       "      <td>0383</td>\n",
       "      <td>313</td>\n",
       "      <td>0383</td>\n",
       "      <td>True</td>\n",
       "    </tr>\n",
       "  </tbody>\n",
       "</table>\n",
       "<p>45385 rows × 5 columns</p>\n",
       "</div>"
      ],
      "text/plain": [
       "      node_ID_x person_ID_x  node_ID_y person_ID_y   edge\n",
       "0             0        0000          0        0000  False\n",
       "1             0        0000          1        0001  False\n",
       "2             0        0000          2        0002  False\n",
       "3             0        0000          3        0003  False\n",
       "4             0        0000          4        0004  False\n",
       "...         ...         ...        ...         ...    ...\n",
       "8768        282        0383        309        0043   True\n",
       "8769        282        0383        310        0044   True\n",
       "8770        282        0383        311        0122   True\n",
       "8771        282        0383        312        0151   True\n",
       "8772        282        0383        313        0383   True\n",
       "\n",
       "[45385 rows x 5 columns]"
      ]
     },
     "execution_count": 12,
     "metadata": {},
     "output_type": "execute_result"
    }
   ],
   "source": [
    "b"
   ]
  },
  {
   "cell_type": "markdown",
   "id": "ff2df017",
   "metadata": {},
   "source": [
    "#### Create the Edge Labels\n",
    "Recall that there are edges between all new nodes and the historic ones and that for t = 0 we don't have any connection. Note that all created connections (except for the snapshot at t=0) exist but they don't have the same labels. Since there is no edge between the nodes from t = 0 we set their labels to `0`. For all subsequent snapshots we label all existing edges (corresponds to the condition `b['edge']==True`) with a `1` if both nodes have the same person ID. In all other cases we set the label `0`, indicating that this edge connects two nodes that do not have the same labels."
   ]
  },
  {
   "cell_type": "code",
   "execution_count": 13,
   "id": "48a1d5a7",
   "metadata": {},
   "outputs": [
    {
     "data": {
      "text/html": [
       "<div>\n",
       "<style scoped>\n",
       "    .dataframe tbody tr th:only-of-type {\n",
       "        vertical-align: middle;\n",
       "    }\n",
       "\n",
       "    .dataframe tbody tr th {\n",
       "        vertical-align: top;\n",
       "    }\n",
       "\n",
       "    .dataframe thead th {\n",
       "        text-align: right;\n",
       "    }\n",
       "</style>\n",
       "<table border=\"1\" class=\"dataframe\">\n",
       "  <thead>\n",
       "    <tr style=\"text-align: right;\">\n",
       "      <th></th>\n",
       "      <th>node_ID_x</th>\n",
       "      <th>person_ID_x</th>\n",
       "      <th>node_ID_y</th>\n",
       "      <th>person_ID_y</th>\n",
       "      <th>edge</th>\n",
       "      <th>labels</th>\n",
       "    </tr>\n",
       "  </thead>\n",
       "  <tbody>\n",
       "    <tr>\n",
       "      <th>0</th>\n",
       "      <td>0</td>\n",
       "      <td>0000</td>\n",
       "      <td>0</td>\n",
       "      <td>0000</td>\n",
       "      <td>False</td>\n",
       "      <td>0</td>\n",
       "    </tr>\n",
       "    <tr>\n",
       "      <th>1</th>\n",
       "      <td>0</td>\n",
       "      <td>0000</td>\n",
       "      <td>1</td>\n",
       "      <td>0001</td>\n",
       "      <td>False</td>\n",
       "      <td>0</td>\n",
       "    </tr>\n",
       "    <tr>\n",
       "      <th>2</th>\n",
       "      <td>0</td>\n",
       "      <td>0000</td>\n",
       "      <td>2</td>\n",
       "      <td>0002</td>\n",
       "      <td>False</td>\n",
       "      <td>0</td>\n",
       "    </tr>\n",
       "    <tr>\n",
       "      <th>3</th>\n",
       "      <td>0</td>\n",
       "      <td>0000</td>\n",
       "      <td>3</td>\n",
       "      <td>0003</td>\n",
       "      <td>False</td>\n",
       "      <td>0</td>\n",
       "    </tr>\n",
       "    <tr>\n",
       "      <th>4</th>\n",
       "      <td>0</td>\n",
       "      <td>0000</td>\n",
       "      <td>4</td>\n",
       "      <td>0004</td>\n",
       "      <td>False</td>\n",
       "      <td>0</td>\n",
       "    </tr>\n",
       "    <tr>\n",
       "      <th>...</th>\n",
       "      <td>...</td>\n",
       "      <td>...</td>\n",
       "      <td>...</td>\n",
       "      <td>...</td>\n",
       "      <td>...</td>\n",
       "      <td>...</td>\n",
       "    </tr>\n",
       "    <tr>\n",
       "      <th>8768</th>\n",
       "      <td>282</td>\n",
       "      <td>0383</td>\n",
       "      <td>309</td>\n",
       "      <td>0043</td>\n",
       "      <td>True</td>\n",
       "      <td>0</td>\n",
       "    </tr>\n",
       "    <tr>\n",
       "      <th>8769</th>\n",
       "      <td>282</td>\n",
       "      <td>0383</td>\n",
       "      <td>310</td>\n",
       "      <td>0044</td>\n",
       "      <td>True</td>\n",
       "      <td>0</td>\n",
       "    </tr>\n",
       "    <tr>\n",
       "      <th>8770</th>\n",
       "      <td>282</td>\n",
       "      <td>0383</td>\n",
       "      <td>311</td>\n",
       "      <td>0122</td>\n",
       "      <td>True</td>\n",
       "      <td>0</td>\n",
       "    </tr>\n",
       "    <tr>\n",
       "      <th>8771</th>\n",
       "      <td>282</td>\n",
       "      <td>0383</td>\n",
       "      <td>312</td>\n",
       "      <td>0151</td>\n",
       "      <td>True</td>\n",
       "      <td>0</td>\n",
       "    </tr>\n",
       "    <tr>\n",
       "      <th>8772</th>\n",
       "      <td>282</td>\n",
       "      <td>0383</td>\n",
       "      <td>313</td>\n",
       "      <td>0383</td>\n",
       "      <td>True</td>\n",
       "      <td>1</td>\n",
       "    </tr>\n",
       "  </tbody>\n",
       "</table>\n",
       "<p>45385 rows × 6 columns</p>\n",
       "</div>"
      ],
      "text/plain": [
       "      node_ID_x person_ID_x  node_ID_y person_ID_y   edge  labels\n",
       "0             0        0000          0        0000  False       0\n",
       "1             0        0000          1        0001  False       0\n",
       "2             0        0000          2        0002  False       0\n",
       "3             0        0000          3        0003  False       0\n",
       "4             0        0000          4        0004  False       0\n",
       "...         ...         ...        ...         ...    ...     ...\n",
       "8768        282        0383        309        0043   True       0\n",
       "8769        282        0383        310        0044   True       0\n",
       "8770        282        0383        311        0122   True       0\n",
       "8771        282        0383        312        0151   True       0\n",
       "8772        282        0383        313        0383   True       1\n",
       "\n",
       "[45385 rows x 6 columns]"
      ]
     },
     "execution_count": 13,
     "metadata": {},
     "output_type": "execute_result"
    }
   ],
   "source": [
    "b['labels'] = np.where((b['person_ID_x'] == b['person_ID_y']) & (b['edge']==True), 1, 0)\n",
    "b"
   ]
  },
  {
   "cell_type": "code",
   "execution_count": 14,
   "id": "13b7e226",
   "metadata": {},
   "outputs": [],
   "source": [
    "b.to_excel(\"edge_connections.xlsx\") "
   ]
  },
  {
   "cell_type": "markdown",
   "id": "666c721a",
   "metadata": {},
   "source": [
    "#### Generate the Edge List and Edge Label List\n",
    "Based on the dataframe b that contains sub-dataframes that correspond to each snapshot we create the edge list and edge label list. Both lists contain numpy arrays each of which corresponds to one snapshot. In the process, we introduce the edge weight matrix and initialize it with all ones for each snapshot to indicate that we are dealing with unweighted graphs in each snapshot."
   ]
  },
  {
   "cell_type": "code",
   "execution_count": 15,
   "id": "1c8432e8",
   "metadata": {},
   "outputs": [],
   "source": [
    "edge_indices = []\n",
    "edge_labels = []\n",
    "edge_weights = []"
   ]
  },
  {
   "cell_type": "code",
   "execution_count": 16,
   "id": "8e6df7bb",
   "metadata": {},
   "outputs": [],
   "source": [
    "source_nodes = b['node_ID_x'].to_list()\n",
    "target_nodes = b['node_ID_y'].to_list()"
   ]
  },
  {
   "cell_type": "markdown",
   "id": "b73d270f",
   "metadata": {},
   "source": [
    "Our main goal here is to extract all sub-dataframes. This was done by using the number of cropped boxes that was calculated in a previous code block."
   ]
  },
  {
   "cell_type": "code",
   "execution_count": 17,
   "id": "b91c67a0",
   "metadata": {},
   "outputs": [
    {
     "data": {
      "text/plain": [
       "[32, 31, 30, 33, 33, 33, 30, 30, 31, 31]"
      ]
     },
     "execution_count": 17,
     "metadata": {},
     "output_type": "execute_result"
    }
   ],
   "source": [
    "num_cropped_boxes # number of new nodes for each time step"
   ]
  },
  {
   "cell_type": "markdown",
   "id": "f08574d7",
   "metadata": {},
   "source": [
    "Based on `num_cropped_boxes` we calculate upper bounds for the array indexing. The upper bound 1024 is the threshold for snapshot 0 at t = 0. The variable `upper` denotes the upper bound in each time step and is recursively calculated based on the current and previous number of new nodes. Since there are no connections for the nodes from snapshot t = 0 we can skip the first 32x32 = 1024 rows, where 32 is the number of new nodes for t = 0. Recall: the 1024 rows were created using the cartesian product. "
   ]
  },
  {
   "cell_type": "code",
   "execution_count": 18,
   "id": "785ea727",
   "metadata": {},
   "outputs": [],
   "source": [
    "upper = num_cropped_boxes[0]**2 # 1024\n",
    "for i in range(0,n_frames):\n",
    "    upper = upper + num_cropped_boxes[i] * sum(num_cropped_boxes[:i]) # t=0: upper + 1024*0\n",
    "\n",
    "    e_snap = np.transpose(np.array([list(a) for a in zip(source_nodes[1024:upper], target_nodes[1024:upper])]))\n",
    "    edge_indices.append(e_snap)\n",
    "    \n",
    "    l_snap = np.array(b['labels'][1024:upper])\n",
    "    edge_labels.append(l_snap)\n",
    "    \n",
    "    edge_weights.append(np.ones(l_snap.size))"
   ]
  },
  {
   "cell_type": "markdown",
   "id": "95a85b9b",
   "metadata": {},
   "source": [
    "Finally, we get the edge list in COO format."
   ]
  },
  {
   "cell_type": "code",
   "execution_count": 19,
   "id": "d2cdad05",
   "metadata": {},
   "outputs": [
    {
     "data": {
      "text/plain": [
       "[array([], dtype=float64),\n",
       " array([[ 0,  0,  0, ..., 31, 31, 31],\n",
       "        [32, 33, 34, ..., 60, 61, 62]])]"
      ]
     },
     "execution_count": 19,
     "metadata": {},
     "output_type": "execute_result"
    }
   ],
   "source": [
    "edge_indices[0:2]"
   ]
  },
  {
   "cell_type": "markdown",
   "id": "b8590c56",
   "metadata": {},
   "source": [
    "### 4. Extract Node Features and Node Labels\n",
    "We start by recalling the number of total nodes in each snapshot as given in `num_nodes`."
   ]
  },
  {
   "cell_type": "code",
   "execution_count": 20,
   "id": "994dcb24",
   "metadata": {},
   "outputs": [],
   "source": [
    "features = []\n",
    "targets = [] # node labels"
   ]
  },
  {
   "cell_type": "code",
   "execution_count": 21,
   "id": "2ccdb4ec",
   "metadata": {
    "scrolled": true
   },
   "outputs": [
    {
     "data": {
      "text/plain": [
       "[32, 63, 93, 126, 159, 192, 222, 252, 283, 314]"
      ]
     },
     "execution_count": 21,
     "metadata": {},
     "output_type": "execute_result"
    }
   ],
   "source": [
    "num_nodes"
   ]
  },
  {
   "cell_type": "markdown",
   "id": "ed677404",
   "metadata": {},
   "source": [
    "For all snapshots we use the corresponding number of nodes as upper bound to extract the node features and node labels. As defined at the beginning `re_id` is used as node features and `person_ID` as targets or rather node labels."
   ]
  },
  {
   "cell_type": "code",
   "execution_count": 22,
   "id": "45d885f6",
   "metadata": {},
   "outputs": [],
   "source": [
    "for i in range(n_frames):\n",
    "    f_snap = re_id[:num_nodes[i]]\n",
    "    features.append(f_snap)\n",
    "    t_snap = np.array(person_ID[:num_nodes[i]])\n",
    "    targets.append(t_snap) "
   ]
  },
  {
   "cell_type": "markdown",
   "id": "73f7fdd4",
   "metadata": {},
   "source": [
    "### 5. Generate the Temporal Graph Dataset"
   ]
  },
  {
   "cell_type": "code",
   "execution_count": 27,
   "id": "adfcd7d6",
   "metadata": {},
   "outputs": [],
   "source": [
    "from torch_geometric_temporal.signal import DynamicGraphTemporalSignal\n",
    "from torch_geometric_temporal.signal import temporal_signal_split"
   ]
  },
  {
   "cell_type": "markdown",
   "id": "fcefbd33",
   "metadata": {},
   "source": [
    "We choose the iterator `DynamicGraphTemporalSignal` and pass the computed parameters. This will create the temporal graph consisting of multiple snapshots of type `Data` (PyG object). In case that batches shall be used I'd suggest touse `Batch` objects instead of `Data` objects and the iterator `DynamicGraphTemporalSignalBatch`. Note that `edge_labels` is the only additional parameter. Also, I don't exactly know the difference between the used iterator and `DynamicGraphStaticSignal`. "
   ]
  },
  {
   "cell_type": "code",
   "execution_count": 24,
   "id": "6c294d74",
   "metadata": {},
   "outputs": [],
   "source": [
    "tg_dataset = DynamicGraphTemporalSignal(edge_indices=edge_indices,\n",
    "                                            edge_weights=edge_weights,\n",
    "                                            features=features,\n",
    "                                            targets=targets,\n",
    "                                            edge_labels=edge_labels)"
   ]
  },
  {
   "cell_type": "markdown",
   "id": "044089a4",
   "metadata": {},
   "source": [
    "Splits iterator in the temporal dimension using a pre-set ratio. This function divides the set of `Data` objects into two sets: the first 0.8% snapshots belong to the training set and the other 0.2% to the test set."
   ]
  },
  {
   "cell_type": "code",
   "execution_count": 25,
   "id": "0465ea35",
   "metadata": {},
   "outputs": [],
   "source": [
    "train_dataset, test_dataset = temporal_signal_split(tg_dataset, train_ratio=0.8)"
   ]
  },
  {
   "cell_type": "code",
   "execution_count": 28,
   "id": "34541d17",
   "metadata": {
    "scrolled": true
   },
   "outputs": [
    {
     "name": "stdout",
     "output_type": "stream",
     "text": [
      "Data(x=[32, 2048], edge_index=[0], edge_attr=[0], edge_labels=[0])\n",
      "Data(x=[63, 2048], edge_index=[2, 992], edge_attr=[992], edge_labels=[992])\n",
      "Data(x=[93, 2048], edge_index=[2, 2882], edge_attr=[2882], edge_labels=[2882])\n",
      "Data(x=[126, 2048], edge_index=[2, 5951], edge_attr=[5951], edge_labels=[5951])\n",
      "Data(x=[159, 2048], edge_index=[2, 10109], edge_attr=[10109], edge_labels=[10109])\n",
      "Data(x=[192, 2048], edge_index=[2, 15356], edge_attr=[15356], edge_labels=[15356])\n",
      "Data(x=[222, 2048], edge_index=[2, 21116], edge_attr=[21116], edge_labels=[21116])\n",
      "Data(x=[252, 2048], edge_index=[2, 27776], edge_attr=[27776], edge_labels=[27776])\n",
      "Data(x=[283, 2048], edge_index=[2, 35588], edge_attr=[35588], edge_labels=[35588])\n",
      "Data(x=[314, 2048], edge_index=[2, 44361], edge_attr=[44361], edge_labels=[44361])\n"
     ]
    }
   ],
   "source": [
    "for i in tg_dataset:\n",
    "    print(i)"
   ]
  },
  {
   "cell_type": "markdown",
   "id": "4699e4a4",
   "metadata": {},
   "source": [
    "The iterator `tg_dataset` is ready to be used for training a temporal GNN."
   ]
  }
 ],
 "metadata": {
  "kernelspec": {
   "display_name": "Python 3 (ipykernel)",
   "language": "python",
   "name": "python3"
  },
  "language_info": {
   "codemirror_mode": {
    "name": "ipython",
    "version": 3
   },
   "file_extension": ".py",
   "mimetype": "text/x-python",
   "name": "python",
   "nbconvert_exporter": "python",
   "pygments_lexer": "ipython3",
   "version": "3.8.10"
  }
 },
 "nbformat": 4,
 "nbformat_minor": 5
}
