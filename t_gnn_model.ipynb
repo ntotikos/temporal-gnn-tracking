{
 "cells": [
  {
   "cell_type": "markdown",
   "id": "1341e406",
   "metadata": {},
   "source": [
    "# Temporal GNN Model for Single-Camera MOT\n",
    "In this notebook, we finally train a graph neural network on the generated graph dataset. Keep in mind that a single-camera MOT scenario is considered."
   ]
  },
  {
   "cell_type": "code",
   "execution_count": 2,
   "id": "04f80b42",
   "metadata": {},
   "outputs": [],
   "source": [
    "from torch_geometric_temporal.signal import temporal_signal_split\n",
    "from torch_geometric.nn.conv import GATv2Conv\n",
    "from torch_geometric.utils import to_dense_adj,to_undirected\n",
    "import torch\n",
    "from torch.nn import Sigmoid"
   ]
  },
  {
   "cell_type": "markdown",
   "id": "6dde4068",
   "metadata": {},
   "source": [
    "### 1. Load the Temporal Graph Dataset\n",
    "Before defining the GNN model we load the dataset that we created in a previous tutorial and split it according to a predefined ratio."
   ]
  },
  {
   "cell_type": "code",
   "execution_count": 4,
   "id": "34ccfa99",
   "metadata": {
    "scrolled": false
   },
   "outputs": [
    {
     "name": "stdout",
     "output_type": "stream",
     "text": [
      "Data(x=[32, 2048], edge_index=[0], edge_attr=[0], edge_labels=[0])\n",
      "Data(x=[63, 2048], edge_index=[2, 992], edge_attr=[992], edge_labels=[992])\n",
      "Data(x=[93, 2048], edge_index=[2, 2882], edge_attr=[2882], edge_labels=[2882])\n",
      "Data(x=[126, 2048], edge_index=[2, 5951], edge_attr=[5951], edge_labels=[5951])\n",
      "Data(x=[159, 2048], edge_index=[2, 10109], edge_attr=[10109], edge_labels=[10109])\n",
      "Data(x=[192, 2048], edge_index=[2, 15356], edge_attr=[15356], edge_labels=[15356])\n",
      "Data(x=[222, 2048], edge_index=[2, 21116], edge_attr=[21116], edge_labels=[21116])\n",
      "Data(x=[252, 2048], edge_index=[2, 27776], edge_attr=[27776], edge_labels=[27776])\n",
      "Data(x=[283, 2048], edge_index=[2, 35588], edge_attr=[35588], edge_labels=[35588])\n",
      "Data(x=[314, 2048], edge_index=[2, 44361], edge_attr=[44361], edge_labels=[44361])\n"
     ]
    }
   ],
   "source": [
    "tg_dataset = torch.load('/home/ge93qew/PycharmProjects/Forschungspraxis/jupyter-notebooks/tg_dataset.pt')\n",
    "for i in tg_dataset:\n",
    "    print(i)\n",
    "\n",
    "train_dataset, test_dataset = temporal_signal_split(tg_dataset, train_ratio=0.8)"
   ]
  },
  {
   "cell_type": "markdown",
   "id": "edb546b4",
   "metadata": {},
   "source": [
    "### 2. Define the GNN Model"
   ]
  },
  {
   "cell_type": "code",
   "execution_count": 23,
   "id": "ebcee3be",
   "metadata": {},
   "outputs": [],
   "source": [
    "epochs = 100\n",
    "lr = 0.0001\n",
    "weight_decay = 5e-4\n",
    "n_heads_sal = 4\n",
    "n_out_sal = 128"
   ]
  },
  {
   "cell_type": "markdown",
   "id": "f6167d01",
   "metadata": {},
   "source": [
    "### 2. Define Custom Temporal Attention Layer\n",
    "Inspired by the [DyGLIP](https://arxiv.org/abs/2106.06856) paper, let's use 2 structural attention layers in our model. We calculate the cosinus distance to get similarity metrics and pass it to a sigmoid classifier. Since we are only interested in existing edges, we apply a mask derived from the adjacency matrix of our graph. I had the following issues during the training:\n",
    "- the attention coefficients were not being updated\n",
    "- the loss was not decreasing at all \n",
    "\n",
    "The main reason for this finding is that the loss gradient has been `None` - but how is that even possible? Well, here are some of my mistakes and greatest learnings: \n",
    "- Don't mess with PyTorch's autograd engine \n",
    "- Try to use as many functions provided by PyTorch (avoid e.g. numpy)\n",
    "- Avoid for loops (but that is a general advise)\n",
    "- Even using functions provided by PyTorch might cause some problems (in my case I had some problems with stacking tensors together)\n",
    "\n",
    "And finally, I came up with the following model."
   ]
  },
  {
   "cell_type": "code",
   "execution_count": 6,
   "id": "c25279e5",
   "metadata": {},
   "outputs": [],
   "source": [
    "class Model(torch.nn.Module):\n",
    "    def __init__(self, in_feat_size):\n",
    "        super(Model, self).__init__()\n",
    "        self.sal1 = GATv2Conv(in_feat_size, out_channels=n_out_sal, heads=n_heads_sal, edge_dim=1)\n",
    "        self.sal2 = GATv2Conv(in_channels=n_out_sal * n_heads_sal, out_channels=n_out_sal, heads=n_heads_sal,\n",
    "                              edge_dim=1)\n",
    "\n",
    "    def forward(self, x, edge_index, edge_attr):\n",
    "        h1 = self.sal1(x, edge_index, edge_attr)\n",
    "        h2 = self.sal2(h1, edge_index, edge_attr)\n",
    "\n",
    "        norm_row = torch.linalg.norm(h2, dim=1)\n",
    "        scaling = torch.outer(norm_row, norm_row)\n",
    "        cos_dist = torch.matmul(h2, torch.transpose(h2, 0, 1)) / scaling\n",
    "\n",
    "        sig = Sigmoid()\n",
    "        scores = sig(cos_dist)\n",
    "       \n",
    "        mask = to_dense_adj(edge_index).type(torch.bool)\n",
    "        labels = torch.masked_select(scores, mask)\n",
    "\n",
    "        return labels"
   ]
  },
  {
   "cell_type": "markdown",
   "id": "8352b260",
   "metadata": {},
   "source": [
    "We choose our loss function and optimizer to be the binary cross entropy loss and the adam optimizer. Note: the argument `input_feat_size` is 2048 since we get 2048 ReID features from the ResNet-50."
   ]
  },
  {
   "cell_type": "code",
   "execution_count": 7,
   "id": "1df7cb78",
   "metadata": {},
   "outputs": [],
   "source": [
    "model = Model(in_feat_size=2048)\n",
    "loss_fn = torch.nn.BCELoss()\n",
    "optimizer = torch.optim.Adam(model.parameters(),lr=lr,weight_decay=weight_decay)"
   ]
  },
  {
   "cell_type": "markdown",
   "id": "0816dbfa",
   "metadata": {},
   "source": [
    "Define the training loop."
   ]
  },
  {
   "cell_type": "code",
   "execution_count": 8,
   "id": "4e1adf00",
   "metadata": {},
   "outputs": [],
   "source": [
    "def train_loop(train_dataset, model, loss_fn, optimizer):\n",
    "    running_loss = 0\n",
    "    n_snapshots = train_dataset.snapshot_count\n",
    "    for time, snapshot in enumerate(train_dataset):\n",
    "        if time > 0:\n",
    "            optimizer.zero_grad()\n",
    "            \n",
    "            pred = model(snapshot.x,snapshot.edge_index,snapshot.edge_attr)\n",
    "            target = snapshot.edge_labels.to(torch.float32)\n",
    "            \n",
    "            loss = loss_fn(pred, target)\n",
    "            loss.backward()  \n",
    "            \n",
    "            optimizer.step()\n",
    "\n",
    "            loss = loss.item()\n",
    "            running_loss = running_loss + loss\n",
    "            print(f\"train loss: {loss:>7f}  [{time}/{n_snapshots-1}]\")\n",
    "    avg_loss = running_loss / (n_snapshots-1)\n",
    "    print(f'avg_train_loss: {avg_loss}')\n",
    "    return avg_loss"
   ]
  },
  {
   "cell_type": "markdown",
   "id": "4a3d9b7b",
   "metadata": {},
   "source": [
    "Define the test loop."
   ]
  },
  {
   "cell_type": "code",
   "execution_count": 9,
   "id": "bd1dae10",
   "metadata": {},
   "outputs": [],
   "source": [
    "def test_loop(test_dataset, model, loss_fn):\n",
    "    running_loss, correct = 0, 0\n",
    "    n_snapshots = test_dataset.snapshot_count\n",
    "\n",
    "    with torch.no_grad():\n",
    "        for snapshot in test_dataset:\n",
    "            size = snapshot.edge_labels.size(dim=0)\n",
    "\n",
    "            pred = model(snapshot.x, snapshot.edge_index, snapshot.edge_attr)\n",
    "            target = snapshot.edge_labels.to(torch.float32)\n",
    "            test_loss = loss_fn(pred, target).item()\n",
    "            \n",
    "            correct = pred.size(dim=0) - torch.abs((pred - target)).sum().item()\n",
    "            correct = correct / size\n",
    "            \n",
    "            print(f\"accuracy: {(100 * correct):>0.1f}%, \\ntest loss: {test_loss:>8f}\")\n",
    "            running_loss = running_loss + test_loss\n",
    "        avg_loss = running_loss / n_snapshots\n",
    "        print(f'avg_test_loss: {avg_loss}')\n",
    "        return avg_loss"
   ]
  },
  {
   "cell_type": "markdown",
   "id": "85484289",
   "metadata": {},
   "source": [
    "Train and test the model for a given number of epochs. "
   ]
  },
  {
   "cell_type": "code",
   "execution_count": null,
   "id": "ccb3e6af",
   "metadata": {},
   "outputs": [],
   "source": [
    "train_losses = []\n",
    "test_losses =  []\n",
    "for t in range(epochs):\n",
    "    print(f\"Epoch {t+1}\\n-------------------------------\")\n",
    "    train_l = train_loop(train_dataset, model, loss_fn, optimizer)\n",
    "    test_l = test_loop(test_dataset, model, loss_fn)\n",
    "    print(f\"\\n\")\n",
    "\n",
    "    train_losses.append(train_l)\n",
    "    test_losses.append(test_l)\n",
    "print(\"Done!\")"
   ]
  },
  {
   "cell_type": "markdown",
   "id": "67c3cabb",
   "metadata": {},
   "source": [
    "After 100 epochs I get `avg_train_loss`: 0.5783409305981227, \n",
    "`avg_test_loss`: 0.7038484215736389,`accuracy`: accuracy: 50.65%."
   ]
  },
  {
   "cell_type": "code",
   "execution_count": 25,
   "id": "faecc8e6",
   "metadata": {},
   "outputs": [
    {
     "data": {
      "image/png": "[encoded data removed]",
      "text/plain": [
       "<Figure size 432x288 with 1 Axes>"
      ]
     },
     "metadata": {
      "needs_background": "light"
     },
     "output_type": "display_data"
    }
   ],
   "source": [
    "import matplotlib.pyplot as plt\n",
    "plt.plot(train_losses, label='train')\n",
    "plt.plot(test_losses, label='test')\n",
    "plt.legend(loc=\"upper right\")\n",
    "plt.show()"
   ]
  }
 ],
 "metadata": {
  "kernelspec": {
   "display_name": "Python 3 (ipykernel)",
   "language": "python",
   "name": "python3"
  },
  "language_info": {
   "codemirror_mode": {
    "name": "ipython",
    "version": 3
   },
   "file_extension": ".py",
   "mimetype": "text/x-python",
   "name": "python",
   "nbconvert_exporter": "python",
   "pygments_lexer": "ipython3",
   "version": "3.8.10"
  }
 },
 "nbformat": 4,
 "nbformat_minor": 5
}
