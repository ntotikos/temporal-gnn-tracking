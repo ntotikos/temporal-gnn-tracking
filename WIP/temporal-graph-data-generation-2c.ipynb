{
 "cells": [
  {
   "cell_type": "markdown",
   "id": "720d63de",
   "metadata": {},
   "source": [
    "# Temporal Graph Data Generation for 2-Camera MOT\n",
    "In this notebook, we are going to generate the temporal graph dataset for the MOT task. Based on the previously preprocessed data the required manipulations are performed. For the sake of simplicity, a 2-camera scenario is considered. "
   ]
  },
  {
   "cell_type": "code",
   "execution_count": 1,
   "id": "ca47c261",
   "metadata": {},
   "outputs": [],
   "source": [
    "import pickle\n",
    "import numpy as np\n",
    "import pandas as pd"
   ]
  },
  {
   "cell_type": "code",
   "execution_count": 2,
   "id": "cdb83680",
   "metadata": {},
   "outputs": [],
   "source": [
    "# pre-set the number of frames we want to look at \n",
    "n_frames = 10\n",
    "n_cameras = 2"
   ]
  },
  {
   "cell_type": "markdown",
   "id": "c302c56a",
   "metadata": {},
   "source": [
    "### 1. Load in the Preprocessed Data\n",
    "There are 400 frames for each camera in the dataset. Each frame exhibits several cropped boxes or rather pedestrians. For a single camera, 400 frames mean that there are 400 time steps available. In each time step we extract a snapshot of the underlying graph. Compared to the Chickenpox Dataset which has 517 snapshots, our dataset will only have 400 snapshots. "
   ]
  },
  {
   "cell_type": "code",
   "execution_count": 3,
   "id": "5bb05b86",
   "metadata": {},
   "outputs": [],
   "source": [
    "with open('/home/ge93qew/WILDTRACK/Image_subsets/C1/reid-features/saved_dictionary-C1.pkl', 'rb') as fc1:\n",
    "    loaded_dict_c1 = pickle.load(fc1)\n",
    "    \n",
    "with open('/home/ge93qew/WILDTRACK/Image_subsets/C2/reid-features/saved_dictionary-C2.pkl', 'rb') as fc2:\n",
    "    loaded_dict_c2 = pickle.load(fc2)"
   ]
  },
  {
   "cell_type": "markdown",
   "id": "68f41c35",
   "metadata": {},
   "source": [
    "We extract the re-id features and additional information from the loaded dictionary `loaded_dict`. In order to split the data into several snapshots, we need to determine the number of elements corresponding to the same `frame_ID`. The dictionary `snapshot_dict` is only one possibility to do so. "
   ]
  },
  {
   "cell_type": "code",
   "execution_count": 4,
   "id": "92155734",
   "metadata": {},
   "outputs": [],
   "source": [
    "re_id_c1, person_ID_c1, frame_ID_c1, name_c1, cam_ID_c1 = zip(*([loaded_dict_c1[i][0], loaded_dict_c1[i][1], \n",
    "                                                  loaded_dict_c1[i][2], loaded_dict_c1[i][3], \n",
    "                                                  loaded_dict_c1[i][4]] for i in loaded_dict_c1))\n",
    "snapshot_dict_c1 = {int(i):frame_ID_c1.count(i) for i in frame_ID_c1}"
   ]
  },
  {
   "cell_type": "code",
   "execution_count": 5,
   "id": "8402c53b",
   "metadata": {},
   "outputs": [],
   "source": [
    "re_id_c2, person_ID_c2, frame_ID_c2, name_c2, cam_ID_c2 = zip(*([loaded_dict_c2[i][0], loaded_dict_c2[i][1], \n",
    "                                                  loaded_dict_c2[i][2], loaded_dict_c2[i][3], \n",
    "                                                  loaded_dict_c2[i][4]] for i in loaded_dict_c2))\n",
    "snapshot_dict_c2 = {int(i):frame_ID_c2.count(i) for i in frame_ID_c2}"
   ]
  },
  {
   "cell_type": "markdown",
   "id": "bfe28704",
   "metadata": {},
   "source": [
    "### 3. Create Edge list and Edge Labels\n",
    "..."
   ]
  },
  {
   "cell_type": "code",
   "execution_count": 6,
   "id": "a9fa6820",
   "metadata": {},
   "outputs": [
    {
     "data": {
      "text/plain": [
       "[32, 31, 30, 33, 33, 33, 30, 30, 31, 31]"
      ]
     },
     "execution_count": 6,
     "metadata": {},
     "output_type": "execute_result"
    }
   ],
   "source": [
    "num_cropped_boxes_c1 = []\n",
    "for i in range(1,n_frames+1):\n",
    "    num_cropped_boxes_c1.append(snapshot_dict_c1[i])\n",
    "num_cropped_boxes_c1"
   ]
  },
  {
   "cell_type": "code",
   "execution_count": 7,
   "id": "4c0af7a4",
   "metadata": {},
   "outputs": [
    {
     "data": {
      "text/plain": [
       "[18, 18, 17, 19, 18, 19, 18, 18, 19, 17]"
      ]
     },
     "execution_count": 7,
     "metadata": {},
     "output_type": "execute_result"
    }
   ],
   "source": [
    "num_cropped_boxes_c2 = []\n",
    "for i in range(1,n_frames+1):\n",
    "    num_cropped_boxes_c2.append(snapshot_dict_c2[i])\n",
    "num_cropped_boxes_c2"
   ]
  },
  {
   "cell_type": "code",
   "execution_count": 8,
   "id": "74fccf85",
   "metadata": {},
   "outputs": [
    {
     "data": {
      "text/plain": [
       "[32, 63, 93, 126, 159, 192, 222, 252, 283, 314]"
      ]
     },
     "execution_count": 8,
     "metadata": {},
     "output_type": "execute_result"
    }
   ],
   "source": [
    "num_nodes_c1 = [num_cropped_boxes_c1[0] if i == 1 else sum(num_cropped_boxes_c1[0:i]) for i in range(1,n_frames+1)]\n",
    "num_nodes_c1"
   ]
  },
  {
   "cell_type": "code",
   "execution_count": 9,
   "id": "e05b08e6",
   "metadata": {},
   "outputs": [
    {
     "data": {
      "text/plain": [
       "[18, 36, 53, 72, 90, 109, 127, 145, 164, 181]"
      ]
     },
     "execution_count": 9,
     "metadata": {},
     "output_type": "execute_result"
    }
   ],
   "source": [
    "num_nodes_c2 = [num_cropped_boxes_c2[0] if i == 1 else sum(num_cropped_boxes_c2[0:i]) for i in range(1,n_frames+1)]\n",
    "num_nodes_c2"
   ]
  },
  {
   "cell_type": "code",
   "execution_count": 10,
   "id": "ef72d75f",
   "metadata": {},
   "outputs": [
    {
     "data": {
      "text/plain": [
       "[50, 49, 47, 52, 51, 52, 48, 48, 50, 48]"
      ]
     },
     "execution_count": 10,
     "metadata": {},
     "output_type": "execute_result"
    }
   ],
   "source": [
    "num_cropped_boxes = [sum(value) for value in zip(num_cropped_boxes_c1, num_cropped_boxes_c2)]\n",
    "num_cropped_boxes"
   ]
  },
  {
   "cell_type": "code",
   "execution_count": 11,
   "id": "df65641a",
   "metadata": {},
   "outputs": [
    {
     "data": {
      "text/plain": [
       "[50, 99, 146, 198, 249, 301, 349, 397, 447, 495]"
      ]
     },
     "execution_count": 11,
     "metadata": {},
     "output_type": "execute_result"
    }
   ],
   "source": [
    "num_nodes_sum = [sum(value) for value in zip(num_nodes_c1, num_nodes_c2)]\n",
    "num_nodes_sum"
   ]
  },
  {
   "cell_type": "markdown",
   "id": "ed5a9224",
   "metadata": {},
   "source": [
    "#### Create DataFrame Objects Containing the Mapping between Person's ID and Integer"
   ]
  },
  {
   "cell_type": "code",
   "execution_count": 32,
   "id": "fa0db4a3",
   "metadata": {},
   "outputs": [],
   "source": [
    "def create_n_dataframes(n,c,num_nodes,person_ID):\n",
    "    for i in range(n):\n",
    "        nodeID_personID_dict = {'node_ID': range(num_nodes[i]), 'person_ID': person_ID[:num_nodes[i]], 'cam_ID': c+1}\n",
    "        exec(f'''global df_c{c+1}_{i}\n",
    "df_c{c+1}_{i} = pd.DataFrame(nodeID_personID_dict)\n",
    "print(f'df_c{c+1}_{i}')''')"
   ]
  },
  {
   "cell_type": "code",
   "execution_count": 33,
   "id": "8cb39263",
   "metadata": {},
   "outputs": [
    {
     "name": "stdout",
     "output_type": "stream",
     "text": [
      "df_c1_0\n",
      "df_c1_1\n",
      "df_c1_2\n",
      "df_c1_3\n",
      "df_c1_4\n",
      "df_c1_5\n",
      "df_c1_6\n",
      "df_c1_7\n",
      "df_c1_8\n",
      "df_c1_9\n",
      "df_c2_0\n",
      "df_c2_1\n",
      "df_c2_2\n",
      "df_c2_3\n",
      "df_c2_4\n",
      "df_c2_5\n",
      "df_c2_6\n",
      "df_c2_7\n",
      "df_c2_8\n",
      "df_c2_9\n"
     ]
    }
   ],
   "source": [
    "for cam in range(n_cameras):\n",
    "    exec(f'''create_n_dataframes(n_frames,cam,num_nodes_c{cam+1},person_ID_c{cam+1})\n",
    "''')"
   ]
  },
  {
   "cell_type": "code",
   "execution_count": 40,
   "id": "a5cede88",
   "metadata": {
    "scrolled": true
   },
   "outputs": [
    {
     "data": {
      "text/html": [
       "<div>\n",
       "<style scoped>\n",
       "    .dataframe tbody tr th:only-of-type {\n",
       "        vertical-align: middle;\n",
       "    }\n",
       "\n",
       "    .dataframe tbody tr th {\n",
       "        vertical-align: top;\n",
       "    }\n",
       "\n",
       "    .dataframe thead th {\n",
       "        text-align: right;\n",
       "    }\n",
       "</style>\n",
       "<table border=\"1\" class=\"dataframe\">\n",
       "  <thead>\n",
       "    <tr style=\"text-align: right;\">\n",
       "      <th></th>\n",
       "      <th>node_ID</th>\n",
       "      <th>person_ID</th>\n",
       "      <th>cam_ID</th>\n",
       "    </tr>\n",
       "  </thead>\n",
       "  <tbody>\n",
       "    <tr>\n",
       "      <th>0</th>\n",
       "      <td>0</td>\n",
       "      <td>0000</td>\n",
       "      <td>1</td>\n",
       "    </tr>\n",
       "    <tr>\n",
       "      <th>1</th>\n",
       "      <td>1</td>\n",
       "      <td>0001</td>\n",
       "      <td>1</td>\n",
       "    </tr>\n",
       "    <tr>\n",
       "      <th>2</th>\n",
       "      <td>2</td>\n",
       "      <td>0002</td>\n",
       "      <td>1</td>\n",
       "    </tr>\n",
       "    <tr>\n",
       "      <th>3</th>\n",
       "      <td>3</td>\n",
       "      <td>0003</td>\n",
       "      <td>1</td>\n",
       "    </tr>\n",
       "    <tr>\n",
       "      <th>4</th>\n",
       "      <td>4</td>\n",
       "      <td>0004</td>\n",
       "      <td>1</td>\n",
       "    </tr>\n",
       "    <tr>\n",
       "      <th>5</th>\n",
       "      <td>5</td>\n",
       "      <td>0005</td>\n",
       "      <td>1</td>\n",
       "    </tr>\n",
       "    <tr>\n",
       "      <th>6</th>\n",
       "      <td>6</td>\n",
       "      <td>0007</td>\n",
       "      <td>1</td>\n",
       "    </tr>\n",
       "    <tr>\n",
       "      <th>7</th>\n",
       "      <td>7</td>\n",
       "      <td>0008</td>\n",
       "      <td>1</td>\n",
       "    </tr>\n",
       "    <tr>\n",
       "      <th>8</th>\n",
       "      <td>8</td>\n",
       "      <td>0009</td>\n",
       "      <td>1</td>\n",
       "    </tr>\n",
       "    <tr>\n",
       "      <th>9</th>\n",
       "      <td>9</td>\n",
       "      <td>0010</td>\n",
       "      <td>1</td>\n",
       "    </tr>\n",
       "    <tr>\n",
       "      <th>10</th>\n",
       "      <td>10</td>\n",
       "      <td>0012</td>\n",
       "      <td>1</td>\n",
       "    </tr>\n",
       "    <tr>\n",
       "      <th>11</th>\n",
       "      <td>11</td>\n",
       "      <td>0013</td>\n",
       "      <td>1</td>\n",
       "    </tr>\n",
       "    <tr>\n",
       "      <th>12</th>\n",
       "      <td>12</td>\n",
       "      <td>0014</td>\n",
       "      <td>1</td>\n",
       "    </tr>\n",
       "    <tr>\n",
       "      <th>13</th>\n",
       "      <td>13</td>\n",
       "      <td>0015</td>\n",
       "      <td>1</td>\n",
       "    </tr>\n",
       "    <tr>\n",
       "      <th>14</th>\n",
       "      <td>14</td>\n",
       "      <td>0017</td>\n",
       "      <td>1</td>\n",
       "    </tr>\n",
       "    <tr>\n",
       "      <th>15</th>\n",
       "      <td>15</td>\n",
       "      <td>0018</td>\n",
       "      <td>1</td>\n",
       "    </tr>\n",
       "    <tr>\n",
       "      <th>16</th>\n",
       "      <td>16</td>\n",
       "      <td>0019</td>\n",
       "      <td>1</td>\n",
       "    </tr>\n",
       "    <tr>\n",
       "      <th>17</th>\n",
       "      <td>17</td>\n",
       "      <td>0020</td>\n",
       "      <td>1</td>\n",
       "    </tr>\n",
       "    <tr>\n",
       "      <th>18</th>\n",
       "      <td>18</td>\n",
       "      <td>0021</td>\n",
       "      <td>1</td>\n",
       "    </tr>\n",
       "    <tr>\n",
       "      <th>19</th>\n",
       "      <td>19</td>\n",
       "      <td>0022</td>\n",
       "      <td>1</td>\n",
       "    </tr>\n",
       "    <tr>\n",
       "      <th>20</th>\n",
       "      <td>20</td>\n",
       "      <td>0023</td>\n",
       "      <td>1</td>\n",
       "    </tr>\n",
       "    <tr>\n",
       "      <th>21</th>\n",
       "      <td>21</td>\n",
       "      <td>0024</td>\n",
       "      <td>1</td>\n",
       "    </tr>\n",
       "    <tr>\n",
       "      <th>22</th>\n",
       "      <td>22</td>\n",
       "      <td>0025</td>\n",
       "      <td>1</td>\n",
       "    </tr>\n",
       "    <tr>\n",
       "      <th>23</th>\n",
       "      <td>23</td>\n",
       "      <td>0027</td>\n",
       "      <td>1</td>\n",
       "    </tr>\n",
       "    <tr>\n",
       "      <th>24</th>\n",
       "      <td>24</td>\n",
       "      <td>0033</td>\n",
       "      <td>1</td>\n",
       "    </tr>\n",
       "    <tr>\n",
       "      <th>25</th>\n",
       "      <td>25</td>\n",
       "      <td>0034</td>\n",
       "      <td>1</td>\n",
       "    </tr>\n",
       "    <tr>\n",
       "      <th>26</th>\n",
       "      <td>26</td>\n",
       "      <td>0035</td>\n",
       "      <td>1</td>\n",
       "    </tr>\n",
       "    <tr>\n",
       "      <th>27</th>\n",
       "      <td>27</td>\n",
       "      <td>0036</td>\n",
       "      <td>1</td>\n",
       "    </tr>\n",
       "    <tr>\n",
       "      <th>28</th>\n",
       "      <td>28</td>\n",
       "      <td>0037</td>\n",
       "      <td>1</td>\n",
       "    </tr>\n",
       "    <tr>\n",
       "      <th>29</th>\n",
       "      <td>29</td>\n",
       "      <td>0038</td>\n",
       "      <td>1</td>\n",
       "    </tr>\n",
       "    <tr>\n",
       "      <th>30</th>\n",
       "      <td>30</td>\n",
       "      <td>0122</td>\n",
       "      <td>1</td>\n",
       "    </tr>\n",
       "    <tr>\n",
       "      <th>31</th>\n",
       "      <td>31</td>\n",
       "      <td>0247</td>\n",
       "      <td>1</td>\n",
       "    </tr>\n",
       "  </tbody>\n",
       "</table>\n",
       "</div>"
      ],
      "text/plain": [
       "    node_ID person_ID  cam_ID\n",
       "0         0      0000       1\n",
       "1         1      0001       1\n",
       "2         2      0002       1\n",
       "3         3      0003       1\n",
       "4         4      0004       1\n",
       "5         5      0005       1\n",
       "6         6      0007       1\n",
       "7         7      0008       1\n",
       "8         8      0009       1\n",
       "9         9      0010       1\n",
       "10       10      0012       1\n",
       "11       11      0013       1\n",
       "12       12      0014       1\n",
       "13       13      0015       1\n",
       "14       14      0017       1\n",
       "15       15      0018       1\n",
       "16       16      0019       1\n",
       "17       17      0020       1\n",
       "18       18      0021       1\n",
       "19       19      0022       1\n",
       "20       20      0023       1\n",
       "21       21      0024       1\n",
       "22       22      0025       1\n",
       "23       23      0027       1\n",
       "24       24      0033       1\n",
       "25       25      0034       1\n",
       "26       26      0035       1\n",
       "27       27      0036       1\n",
       "28       28      0037       1\n",
       "29       29      0038       1\n",
       "30       30      0122       1\n",
       "31       31      0247       1"
      ]
     },
     "execution_count": 40,
     "metadata": {},
     "output_type": "execute_result"
    }
   ],
   "source": [
    "df_c1_0"
   ]
  },
  {
   "cell_type": "code",
   "execution_count": 39,
   "id": "ba480fd6",
   "metadata": {
    "scrolled": true
   },
   "outputs": [
    {
     "data": {
      "text/html": [
       "<div>\n",
       "<style scoped>\n",
       "    .dataframe tbody tr th:only-of-type {\n",
       "        vertical-align: middle;\n",
       "    }\n",
       "\n",
       "    .dataframe tbody tr th {\n",
       "        vertical-align: top;\n",
       "    }\n",
       "\n",
       "    .dataframe thead th {\n",
       "        text-align: right;\n",
       "    }\n",
       "</style>\n",
       "<table border=\"1\" class=\"dataframe\">\n",
       "  <thead>\n",
       "    <tr style=\"text-align: right;\">\n",
       "      <th></th>\n",
       "      <th>node_ID</th>\n",
       "      <th>person_ID</th>\n",
       "      <th>cam_ID</th>\n",
       "    </tr>\n",
       "  </thead>\n",
       "  <tbody>\n",
       "    <tr>\n",
       "      <th>0</th>\n",
       "      <td>0</td>\n",
       "      <td>0002</td>\n",
       "      <td>2</td>\n",
       "    </tr>\n",
       "    <tr>\n",
       "      <th>1</th>\n",
       "      <td>1</td>\n",
       "      <td>0005</td>\n",
       "      <td>2</td>\n",
       "    </tr>\n",
       "    <tr>\n",
       "      <th>2</th>\n",
       "      <td>2</td>\n",
       "      <td>0010</td>\n",
       "      <td>2</td>\n",
       "    </tr>\n",
       "    <tr>\n",
       "      <th>3</th>\n",
       "      <td>3</td>\n",
       "      <td>0012</td>\n",
       "      <td>2</td>\n",
       "    </tr>\n",
       "    <tr>\n",
       "      <th>4</th>\n",
       "      <td>4</td>\n",
       "      <td>0013</td>\n",
       "      <td>2</td>\n",
       "    </tr>\n",
       "    <tr>\n",
       "      <th>5</th>\n",
       "      <td>5</td>\n",
       "      <td>0014</td>\n",
       "      <td>2</td>\n",
       "    </tr>\n",
       "    <tr>\n",
       "      <th>6</th>\n",
       "      <td>6</td>\n",
       "      <td>0015</td>\n",
       "      <td>2</td>\n",
       "    </tr>\n",
       "    <tr>\n",
       "      <th>7</th>\n",
       "      <td>7</td>\n",
       "      <td>0017</td>\n",
       "      <td>2</td>\n",
       "    </tr>\n",
       "    <tr>\n",
       "      <th>8</th>\n",
       "      <td>8</td>\n",
       "      <td>0018</td>\n",
       "      <td>2</td>\n",
       "    </tr>\n",
       "    <tr>\n",
       "      <th>9</th>\n",
       "      <td>9</td>\n",
       "      <td>0019</td>\n",
       "      <td>2</td>\n",
       "    </tr>\n",
       "    <tr>\n",
       "      <th>10</th>\n",
       "      <td>10</td>\n",
       "      <td>0020</td>\n",
       "      <td>2</td>\n",
       "    </tr>\n",
       "    <tr>\n",
       "      <th>11</th>\n",
       "      <td>11</td>\n",
       "      <td>0021</td>\n",
       "      <td>2</td>\n",
       "    </tr>\n",
       "    <tr>\n",
       "      <th>12</th>\n",
       "      <td>12</td>\n",
       "      <td>0022</td>\n",
       "      <td>2</td>\n",
       "    </tr>\n",
       "    <tr>\n",
       "      <th>13</th>\n",
       "      <td>13</td>\n",
       "      <td>0023</td>\n",
       "      <td>2</td>\n",
       "    </tr>\n",
       "    <tr>\n",
       "      <th>14</th>\n",
       "      <td>14</td>\n",
       "      <td>0024</td>\n",
       "      <td>2</td>\n",
       "    </tr>\n",
       "    <tr>\n",
       "      <th>15</th>\n",
       "      <td>15</td>\n",
       "      <td>0038</td>\n",
       "      <td>2</td>\n",
       "    </tr>\n",
       "    <tr>\n",
       "      <th>16</th>\n",
       "      <td>16</td>\n",
       "      <td>0122</td>\n",
       "      <td>2</td>\n",
       "    </tr>\n",
       "    <tr>\n",
       "      <th>17</th>\n",
       "      <td>17</td>\n",
       "      <td>0247</td>\n",
       "      <td>2</td>\n",
       "    </tr>\n",
       "  </tbody>\n",
       "</table>\n",
       "</div>"
      ],
      "text/plain": [
       "    node_ID person_ID  cam_ID\n",
       "0         0      0002       2\n",
       "1         1      0005       2\n",
       "2         2      0010       2\n",
       "3         3      0012       2\n",
       "4         4      0013       2\n",
       "5         5      0014       2\n",
       "6         6      0015       2\n",
       "7         7      0017       2\n",
       "8         8      0018       2\n",
       "9         9      0019       2\n",
       "10       10      0020       2\n",
       "11       11      0021       2\n",
       "12       12      0022       2\n",
       "13       13      0023       2\n",
       "14       14      0024       2\n",
       "15       15      0038       2\n",
       "16       16      0122       2\n",
       "17       17      0247       2"
      ]
     },
     "execution_count": 39,
     "metadata": {},
     "output_type": "execute_result"
    }
   ],
   "source": [
    "df_c2_0"
   ]
  },
  {
   "cell_type": "markdown",
   "id": "cb00b454",
   "metadata": {},
   "source": [
    "#### Create DataFrame Objects Containing the Stacked Temporal Graph Data\n"
   ]
  },
  {
   "cell_type": "code",
   "execution_count": null,
   "id": "fe0e3b42",
   "metadata": {},
   "outputs": [],
   "source": [
    "def generate_temporal_dataframes(num_frames): \n",
    "    # dataframe based on cartesian product at t = 0; df_stack will be used as historic nodes\n",
    "    df_stack = df_c1_0.merge(df_c2_0,how='cross')  \n",
    "    \n",
    "    # dataframe based on cartesian product plus additional column 'edge' at t = 0\n",
    "    df_edges = df_stack.copy()\n",
    "    df_edges['edge'] = True  \n",
    "     \n",
    "    for i in range(1,num_frames):\n",
    "        \n",
    "        # create for loop for all cameras and call a generic function that generates the dataframes for all new nodes, \n",
    "        # all new edges etc. \n",
    "        # check notes in green notebook.\n",
    "        \n",
    "        \n",
    "        # dataframe containing all new nodes in each time step\n",
    "        exec(f'''global new_nodes\n",
    "new_nodes = df_{i}[num_nodes[i-1]:num_nodes[i]+1]''')\n",
    "        \n",
    "        # dataframe based on cartesian product of new nodes and historic nodes in each time step t > 0\n",
    "        exec(f'''global df_new_edges\n",
    "df_new_edges = df_{i-1}.merge(new_nodes,how='cross')''')        \n",
    "        \n",
    "        # dataframe containing the new set of historic nodes for the next iteration\n",
    "        df_stack = pd.concat([df_stack,df_new_edges], ignore_index=True)\n",
    "        \n",
    "        df_new_edges['edge'] = True\n",
    "        df_edges = pd.concat([df_edges,df_new_edges])\n",
    "    return df_stack,df_edges  "
   ]
  },
  {
   "cell_type": "code",
   "execution_count": null,
   "id": "a7e44af7",
   "metadata": {},
   "outputs": [],
   "source": [
    "def gen_new_nodes_dfs_per_cam(cam):\n",
    "    "
   ]
  },
  {
   "cell_type": "code",
   "execution_count": null,
   "id": "cd6c786d",
   "metadata": {},
   "outputs": [],
   "source": []
  },
  {
   "cell_type": "code",
   "execution_count": null,
   "id": "4c83ad71",
   "metadata": {},
   "outputs": [],
   "source": []
  },
  {
   "cell_type": "code",
   "execution_count": null,
   "id": "d4aa2e59",
   "metadata": {},
   "outputs": [],
   "source": []
  },
  {
   "cell_type": "code",
   "execution_count": null,
   "id": "b5e1d78e",
   "metadata": {},
   "outputs": [],
   "source": []
  },
  {
   "cell_type": "code",
   "execution_count": null,
   "id": "c830e3b0",
   "metadata": {},
   "outputs": [],
   "source": []
  },
  {
   "cell_type": "code",
   "execution_count": null,
   "id": "4916fced",
   "metadata": {},
   "outputs": [],
   "source": []
  },
  {
   "cell_type": "code",
   "execution_count": null,
   "id": "22427b1c",
   "metadata": {},
   "outputs": [],
   "source": []
  },
  {
   "cell_type": "code",
   "execution_count": null,
   "id": "205307f1",
   "metadata": {},
   "outputs": [],
   "source": []
  }
 ],
 "metadata": {
  "kernelspec": {
   "display_name": "Python 3 (ipykernel)",
   "language": "python",
   "name": "python3"
  },
  "language_info": {
   "codemirror_mode": {
    "name": "ipython",
    "version": 3
   },
   "file_extension": ".py",
   "mimetype": "text/x-python",
   "name": "python",
   "nbconvert_exporter": "python",
   "pygments_lexer": "ipython3",
   "version": "3.8.10"
  }
 },
 "nbformat": 4,
 "nbformat_minor": 5
}
