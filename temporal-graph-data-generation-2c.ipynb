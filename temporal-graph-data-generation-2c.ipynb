{
 "cells": [
  {
   "cell_type": "markdown",
   "id": "3d8b5d1f",
   "metadata": {},
   "source": [
    "# Temporal Graph Data Generation for 2-Camera MOT\n",
    "In this notebook, we are going to generate the temporal graph dataset for the MOT task. Based on the previously preprocessed data the required manipulations are performed. A 2-camera scenario is considered. "
   ]
  },
  {
   "cell_type": "code",
   "execution_count": 1,
   "id": "76b5fb50",
   "metadata": {},
   "outputs": [],
   "source": [
    "import pickle\n",
    "import numpy as np\n",
    "import pandas as pd"
   ]
  },
  {
   "cell_type": "code",
   "execution_count": 2,
   "id": "912911b8",
   "metadata": {},
   "outputs": [],
   "source": [
    "# pre-set the number of frames we want to look at \n",
    "n_frames = 10\n",
    "n_cameras = 2"
   ]
  },
  {
   "cell_type": "markdown",
   "id": "657d7351",
   "metadata": {},
   "source": [
    "### 1. Load in the Preprocessed Data"
   ]
  },
  {
   "cell_type": "code",
   "execution_count": 3,
   "id": "6971b5f2",
   "metadata": {},
   "outputs": [],
   "source": [
    "with open('/home/ge93qew/WILDTRACK/Image_subsets/C1/reid-features/saved_dictionary-C1.pkl', 'rb') as fc1:\n",
    "    loaded_dict_c1 = pickle.load(fc1)\n",
    "    \n",
    "with open('/home/ge93qew/WILDTRACK/Image_subsets/C2/reid-features/saved_dictionary-C2.pkl', 'rb') as fc2:\n",
    "    loaded_dict_c2 = pickle.load(fc2)"
   ]
  },
  {
   "cell_type": "markdown",
   "id": "d78c37a8",
   "metadata": {},
   "source": [
    "We extract the re-id features and additional information from the loaded dictionaries. In order to split the data into several snapshots, we need to determine the number of elements corresponding to the same `frame_ID` for both cameras. "
   ]
  },
  {
   "cell_type": "code",
   "execution_count": 4,
   "id": "8214e5ee",
   "metadata": {},
   "outputs": [],
   "source": [
    "re_id_c1, person_ID_c1, frame_ID_c1, name_c1, cam_ID_c1 = zip(*([loaded_dict_c1[i][0], loaded_dict_c1[i][1], \n",
    "                                                  loaded_dict_c1[i][2], loaded_dict_c1[i][3], \n",
    "                                                  loaded_dict_c1[i][4]] for i in loaded_dict_c1))\n",
    "snapshot_dict_c1 = {int(i):frame_ID_c1.count(i) for i in frame_ID_c1}"
   ]
  },
  {
   "cell_type": "code",
   "execution_count": 5,
   "id": "f9465625",
   "metadata": {},
   "outputs": [],
   "source": [
    "re_id_c2, person_ID_c2, frame_ID_c2, name_c2, cam_ID_c2 = zip(*([loaded_dict_c2[i][0], loaded_dict_c2[i][1], \n",
    "                                                  loaded_dict_c2[i][2], loaded_dict_c2[i][3], \n",
    "                                                  loaded_dict_c2[i][4]] for i in loaded_dict_c2))\n",
    "snapshot_dict_c2 = {int(i):frame_ID_c2.count(i) for i in frame_ID_c2}"
   ]
  },
  {
   "cell_type": "markdown",
   "id": "48b9d312",
   "metadata": {},
   "source": [
    "### 3. Create Edge list and Edge Labels\n",
    "Now, we have to think about which nodes shall be connected. This information shall be stored in an edge list in COO format. Here are some observations:\n",
    "- Observation 1: there won't be any connection between new nodes from the same camera and time step, since a node represents a specific person and (s)he won't appear twice in the same frame \n",
    "- Observation 2: other than in the single-camera scenario, we do have edges for t=0, namely between all nodes from camera 1 and camera 2. \n",
    "- Observation 3: if the term historic nodes refers to nodes from past snapshots we need to connect every historic node with every new node. \n",
    "\n",
    "The most relevant information for defining the edges and their labels is the `person_ID`. An ideal graph model would label the edges between nodes that have the same `person_ID` with a `1` and all others with `0`. \n",
    "\n",
    "We first determine the number of cropped boxes for both cameras and investigate the graph evolution based on these numbers. "
   ]
  },
  {
   "cell_type": "code",
   "execution_count": 6,
   "id": "9bfe70a9",
   "metadata": {
    "scrolled": true
   },
   "outputs": [
    {
     "data": {
      "text/plain": [
       "[32, 31, 30, 33, 33, 33, 30, 30, 31, 31]"
      ]
     },
     "execution_count": 6,
     "metadata": {},
     "output_type": "execute_result"
    }
   ],
   "source": [
    "num_cropped_boxes_c1 = []\n",
    "for i in range(1,n_frames+1):\n",
    "    num_cropped_boxes_c1.append(snapshot_dict_c1[i])\n",
    "num_cropped_boxes_c1"
   ]
  },
  {
   "cell_type": "code",
   "execution_count": 7,
   "id": "9b1c73dc",
   "metadata": {},
   "outputs": [
    {
     "data": {
      "text/plain": [
       "[18, 18, 17, 19, 18, 19, 18, 18, 19, 17]"
      ]
     },
     "execution_count": 7,
     "metadata": {},
     "output_type": "execute_result"
    }
   ],
   "source": [
    "num_cropped_boxes_c2 = []\n",
    "for i in range(1,n_frames+1):\n",
    "    num_cropped_boxes_c2.append(snapshot_dict_c2[i])\n",
    "num_cropped_boxes_c2"
   ]
  },
  {
   "cell_type": "code",
   "execution_count": 8,
   "id": "7bbee983",
   "metadata": {},
   "outputs": [
    {
     "data": {
      "text/plain": [
       "[32, 63, 93, 126, 159, 192, 222, 252, 283, 314]"
      ]
     },
     "execution_count": 8,
     "metadata": {},
     "output_type": "execute_result"
    }
   ],
   "source": [
    "num_nodes_c1 = [num_cropped_boxes_c1[0] if i == 1 else sum(num_cropped_boxes_c1[0:i]) for i in range(1,n_frames+1)]\n",
    "num_nodes_c1"
   ]
  },
  {
   "cell_type": "code",
   "execution_count": 9,
   "id": "ebe3a93f",
   "metadata": {},
   "outputs": [
    {
     "data": {
      "text/plain": [
       "[18, 36, 53, 72, 90, 109, 127, 145, 164, 181]"
      ]
     },
     "execution_count": 9,
     "metadata": {},
     "output_type": "execute_result"
    }
   ],
   "source": [
    "num_nodes_c2 = [num_cropped_boxes_c2[0] if i == 1 else sum(num_cropped_boxes_c2[0:i]) for i in range(1,n_frames+1)]\n",
    "num_nodes_c2"
   ]
  },
  {
   "cell_type": "code",
   "execution_count": 10,
   "id": "9c9ee958",
   "metadata": {},
   "outputs": [
    {
     "data": {
      "text/plain": [
       "[50, 49, 47, 52, 51, 52, 48, 48, 50, 48]"
      ]
     },
     "execution_count": 10,
     "metadata": {},
     "output_type": "execute_result"
    }
   ],
   "source": [
    "num_cropped_boxes = [sum(value) for value in zip(num_cropped_boxes_c1, num_cropped_boxes_c2)]\n",
    "num_cropped_boxes"
   ]
  },
  {
   "cell_type": "code",
   "execution_count": 11,
   "id": "5c52f3c5",
   "metadata": {
    "scrolled": false
   },
   "outputs": [
    {
     "data": {
      "text/plain": [
       "[50, 99, 146, 198, 249, 301, 349, 397, 447, 495]"
      ]
     },
     "execution_count": 11,
     "metadata": {},
     "output_type": "execute_result"
    }
   ],
   "source": [
    "num_nodes_sum = [sum(value) for value in zip(num_nodes_c1, num_nodes_c2)]\n",
    "num_nodes_sum"
   ]
  },
  {
   "cell_type": "markdown",
   "id": "182a44a8",
   "metadata": {},
   "source": [
    "Determine the number of overall edges for all graph snapshots. This information will be used later on."
   ]
  },
  {
   "cell_type": "code",
   "execution_count": 12,
   "id": "06df0196",
   "metadata": {
    "scrolled": true
   },
   "outputs": [
    {
     "name": "stdout",
     "output_type": "stream",
     "text": [
      "576\n",
      "summe: 3584\n",
      "summe: 8747\n",
      "summe: 16966\n",
      "summe: 27658\n",
      "summe: 41233\n",
      "summe: 56221\n",
      "summe: 73513\n",
      "summe: 93952\n",
      "summe: 115935\n"
     ]
    },
    {
     "data": {
      "text/plain": [
       "115935"
      ]
     },
     "execution_count": 12,
     "metadata": {},
     "output_type": "execute_result"
    }
   ],
   "source": [
    "summe = num_cropped_boxes_c1[0]*num_cropped_boxes_c2[0]\n",
    "num_edges_per_snapshot = [summe]\n",
    "print(summe)\n",
    "for i in range(1,n_frames):\n",
    "    tmp = num_cropped_boxes_c1[i]*num_cropped_boxes_c2[i] + num_nodes_sum[i-1]*(num_cropped_boxes[i])\n",
    "    summe = summe + tmp\n",
    "    print(f'summe: {summe}')\n",
    "    num_edges_per_snapshot.append(summe)\n",
    "summe"
   ]
  },
  {
   "cell_type": "markdown",
   "id": "bf4d5e55",
   "metadata": {},
   "source": [
    "#### Create DataFrame Objects Containing the Mapping between Person's ID and Integer\n",
    "Insert element 0 to first position in `num_nodes_c1` and `num_nodes_c2`."
   ]
  },
  {
   "cell_type": "code",
   "execution_count": 13,
   "id": "e5c28cd8",
   "metadata": {},
   "outputs": [],
   "source": [
    "num_nodes_c1.insert(0, 0)\n",
    "num_nodes_c2.insert(0, 0)"
   ]
  },
  {
   "cell_type": "code",
   "execution_count": 14,
   "id": "1881b39b",
   "metadata": {},
   "outputs": [
    {
     "data": {
      "text/plain": [
       "[0, 32, 63, 93, 126, 159, 192, 222, 252, 283, 314]"
      ]
     },
     "execution_count": 14,
     "metadata": {},
     "output_type": "execute_result"
    }
   ],
   "source": [
    "num_nodes_c1"
   ]
  },
  {
   "cell_type": "code",
   "execution_count": 15,
   "id": "55da09e0",
   "metadata": {},
   "outputs": [
    {
     "data": {
      "text/plain": [
       "[0, 18, 36, 53, 72, 90, 109, 127, 145, 164, 181]"
      ]
     },
     "execution_count": 15,
     "metadata": {},
     "output_type": "execute_result"
    }
   ],
   "source": [
    "num_nodes_c2"
   ]
  },
  {
   "cell_type": "markdown",
   "id": "c0b8d342",
   "metadata": {},
   "source": [
    "Now create for both cameras as many `DataFrame` objects as specified in `n_frames`. We map a person's ID to a node ID to emphasize the node order. Particularly, this step assigns integer values to the node labels. Note that we introduced the variable `shift` in order to relatively calculate range boundaries for node IDs. Here is what we would like to have: \n",
    "\n",
    "- Node IDs that range from 0 to 31 for camera 1 nodes at t=0 (32 IDs)\n",
    "- Node IDs that range from 32 to 49 for camera 2 nodes at t=0 (18 IDs)\n",
    "- Node IDs that range from 50 to 80 for camera 1 nodes at t=1 (31 IDs)\n",
    "- Node IDs that range form 81 to 98 for camera 2 nodes at t=1 (17 IDs)\n",
    "- ...\n",
    "\n",
    "Note that the integers in brackets correspond to the values in `num_cropped_boxes_c1` and `num_cropped_boxes_c2`. "
   ]
  },
  {
   "cell_type": "code",
   "execution_count": 16,
   "id": "32046f60",
   "metadata": {},
   "outputs": [
    {
     "name": "stdout",
     "output_type": "stream",
     "text": [
      "tmp_df_c1_0\n",
      "tmp_df_c2_0\n",
      "tmp_df_c1_1\n",
      "tmp_df_c2_1\n",
      "tmp_df_c1_2\n",
      "tmp_df_c2_2\n",
      "tmp_df_c1_3\n",
      "tmp_df_c2_3\n",
      "tmp_df_c1_4\n",
      "tmp_df_c2_4\n",
      "tmp_df_c1_5\n",
      "tmp_df_c2_5\n",
      "tmp_df_c1_6\n",
      "tmp_df_c2_6\n",
      "tmp_df_c1_7\n",
      "tmp_df_c2_7\n",
      "tmp_df_c1_8\n",
      "tmp_df_c2_8\n",
      "tmp_df_c1_9\n",
      "tmp_df_c2_9\n"
     ]
    }
   ],
   "source": [
    "shift = 0\n",
    "for frame in range(n_frames):\n",
    "    for cam in range(n_cameras):\n",
    "        exec(f'''global num_boxes,num_nodes,person_ID\n",
    "num_boxes = num_cropped_boxes_c{cam+1}\n",
    "num_nodes = num_nodes_c{cam+1}\n",
    "person_ID = person_ID_c{cam+1}\n",
    "''')\n",
    "        nodeID_personID_dict = {'node_ID': range(shift,num_boxes[frame]+shift),\n",
    "                               'person_ID': person_ID[num_nodes[frame]:num_nodes[frame+1]]}\n",
    "        exec(f'''global tmp_df_c{cam+1}_{frame}\n",
    "tmp_df_c{cam+1}_{frame} = pd.DataFrame(nodeID_personID_dict)\n",
    "print(f'tmp_df_c{cam+1}_{frame}')\n",
    "''') \n",
    "        shift = shift + num_boxes[frame]"
   ]
  },
  {
   "cell_type": "markdown",
   "id": "362d79d6",
   "metadata": {},
   "source": [
    "#### Stack the Created DataFrames\n",
    "For each timestep, we stack all existing dataframes camera-wise while preserving the node ordering we imposed. For instance, at t=2 we stack `tmp_df_c1_0`, `tmp_df_c1_1` and `tmp_df_c1_2` for camera 1 (similar for camera 2). "
   ]
  },
  {
   "cell_type": "code",
   "execution_count": 17,
   "id": "d7b86b42",
   "metadata": {},
   "outputs": [],
   "source": [
    "df_c1_0 = tmp_df_c1_0\n",
    "df_c2_0 = tmp_df_c2_0\n",
    "\n",
    "dataframes_1 = [tmp_df_c1_0]\n",
    "dataframes_2 = [tmp_df_c2_0]\n",
    "\n",
    "for f in range(1,n_frames):\n",
    "    exec(f'''global df_c1_{f}\n",
    "global df_c2_{f}\n",
    "dataframes_1.append(tmp_df_c1_{f})\n",
    "dataframes_2.append(tmp_df_c2_{f})\n",
    "df_c1_{f} = pd.concat(dataframes_1,ignore_index=True)\n",
    "df_c2_{f} = pd.concat(dataframes_2,ignore_index=True)\n",
    "''')"
   ]
  },
  {
   "cell_type": "code",
   "execution_count": 18,
   "id": "da2e02d2",
   "metadata": {
    "scrolled": false
   },
   "outputs": [
    {
     "data": {
      "text/html": [
       "<div>\n",
       "<style scoped>\n",
       "    .dataframe tbody tr th:only-of-type {\n",
       "        vertical-align: middle;\n",
       "    }\n",
       "\n",
       "    .dataframe tbody tr th {\n",
       "        vertical-align: top;\n",
       "    }\n",
       "\n",
       "    .dataframe thead th {\n",
       "        text-align: right;\n",
       "    }\n",
       "</style>\n",
       "<table border=\"1\" class=\"dataframe\">\n",
       "  <thead>\n",
       "    <tr style=\"text-align: right;\">\n",
       "      <th></th>\n",
       "      <th>node_ID</th>\n",
       "      <th>person_ID</th>\n",
       "    </tr>\n",
       "  </thead>\n",
       "  <tbody>\n",
       "    <tr>\n",
       "      <th>0</th>\n",
       "      <td>0</td>\n",
       "      <td>0000</td>\n",
       "    </tr>\n",
       "    <tr>\n",
       "      <th>1</th>\n",
       "      <td>1</td>\n",
       "      <td>0001</td>\n",
       "    </tr>\n",
       "    <tr>\n",
       "      <th>2</th>\n",
       "      <td>2</td>\n",
       "      <td>0002</td>\n",
       "    </tr>\n",
       "    <tr>\n",
       "      <th>3</th>\n",
       "      <td>3</td>\n",
       "      <td>0003</td>\n",
       "    </tr>\n",
       "    <tr>\n",
       "      <th>4</th>\n",
       "      <td>4</td>\n",
       "      <td>0004</td>\n",
       "    </tr>\n",
       "    <tr>\n",
       "      <th>...</th>\n",
       "      <td>...</td>\n",
       "      <td>...</td>\n",
       "    </tr>\n",
       "    <tr>\n",
       "      <th>309</th>\n",
       "      <td>473</td>\n",
       "      <td>0043</td>\n",
       "    </tr>\n",
       "    <tr>\n",
       "      <th>310</th>\n",
       "      <td>474</td>\n",
       "      <td>0044</td>\n",
       "    </tr>\n",
       "    <tr>\n",
       "      <th>311</th>\n",
       "      <td>475</td>\n",
       "      <td>0122</td>\n",
       "    </tr>\n",
       "    <tr>\n",
       "      <th>312</th>\n",
       "      <td>476</td>\n",
       "      <td>0151</td>\n",
       "    </tr>\n",
       "    <tr>\n",
       "      <th>313</th>\n",
       "      <td>477</td>\n",
       "      <td>0383</td>\n",
       "    </tr>\n",
       "  </tbody>\n",
       "</table>\n",
       "<p>314 rows × 2 columns</p>\n",
       "</div>"
      ],
      "text/plain": [
       "     node_ID person_ID\n",
       "0          0      0000\n",
       "1          1      0001\n",
       "2          2      0002\n",
       "3          3      0003\n",
       "4          4      0004\n",
       "..       ...       ...\n",
       "309      473      0043\n",
       "310      474      0044\n",
       "311      475      0122\n",
       "312      476      0151\n",
       "313      477      0383\n",
       "\n",
       "[314 rows x 2 columns]"
      ]
     },
     "execution_count": 18,
     "metadata": {},
     "output_type": "execute_result"
    }
   ],
   "source": [
    "df_c1_9"
   ]
  },
  {
   "cell_type": "code",
   "execution_count": 19,
   "id": "a9650d58",
   "metadata": {
    "scrolled": true
   },
   "outputs": [
    {
     "name": "stdout",
     "output_type": "stream",
     "text": [
      "(32, 2)\n",
      "(18, 2)\n",
      "(63, 2)\n",
      "(36, 2)\n",
      "(93, 2)\n",
      "(53, 2)\n",
      "(126, 2)\n",
      "(72, 2)\n",
      "(159, 2)\n",
      "(90, 2)\n",
      "(192, 2)\n",
      "(109, 2)\n",
      "(222, 2)\n",
      "(127, 2)\n",
      "(252, 2)\n",
      "(145, 2)\n",
      "(283, 2)\n",
      "(164, 2)\n",
      "(314, 2)\n",
      "(181, 2)\n"
     ]
    }
   ],
   "source": [
    "for i in range(n_frames):\n",
    "    for j in range(2):\n",
    "        exec(f'''print(df_c{j+1}_{i}.shape)''')"
   ]
  },
  {
   "cell_type": "markdown",
   "id": "e64656e7",
   "metadata": {},
   "source": [
    "#### Create DataFrame Objects Containing the Stacked Temporal Graph Data\n",
    "We need to remove the first element we inserted at the beginning."
   ]
  },
  {
   "cell_type": "code",
   "execution_count": 20,
   "id": "c45e32e7",
   "metadata": {},
   "outputs": [
    {
     "data": {
      "text/plain": [
       "0"
      ]
     },
     "execution_count": 20,
     "metadata": {},
     "output_type": "execute_result"
    }
   ],
   "source": [
    "num_nodes_c1.pop(0)\n",
    "num_nodes_c2.pop(0)"
   ]
  },
  {
   "cell_type": "code",
   "execution_count": 21,
   "id": "e1264ee9",
   "metadata": {},
   "outputs": [
    {
     "data": {
      "text/plain": [
       "[32, 63, 93, 126, 159, 192, 222, 252, 283, 314]"
      ]
     },
     "execution_count": 21,
     "metadata": {},
     "output_type": "execute_result"
    }
   ],
   "source": [
    "num_nodes_c1"
   ]
  },
  {
   "cell_type": "code",
   "execution_count": 22,
   "id": "4799e780",
   "metadata": {},
   "outputs": [
    {
     "data": {
      "text/plain": [
       "[18, 36, 53, 72, 90, 109, 127, 145, 164, 181]"
      ]
     },
     "execution_count": 22,
     "metadata": {},
     "output_type": "execute_result"
    }
   ],
   "source": [
    "num_nodes_c2"
   ]
  },
  {
   "cell_type": "code",
   "execution_count": 23,
   "id": "13e5336f",
   "metadata": {},
   "outputs": [],
   "source": [
    "def generate_temporal_dataframes(num_frames): \n",
    "    df_stack = df_c1_0.merge(df_c2_0,how='cross')  \n",
    "     \n",
    "    for i in range(1,num_frames):       \n",
    "        for c in range(1,n_cameras+1):\n",
    "            gen_new_nodes_dfs_per_cam(c,i)\n",
    "\n",
    "        # dataframe based on cartesian product of new nodes from both cameras c1 & c2 in each time step t > 0\n",
    "        exec(f'''global df_new_edges_for_new_nodes\n",
    "df_new_edges_for_new_nodes = new_nodes_c1.merge(new_nodes_c2,how='cross')\n",
    "''')  \n",
    "        # dataframe based on cartesian product of all new nodes and all historic nodes in each time step t > 0\n",
    "        exec(f'''global df_new_edges_new_to_historic_nodes,new_nodes_c,df_c\n",
    "new_nodes_c = pd.concat([new_nodes_c1,new_nodes_c2], ignore_index=True)\n",
    "df_c = pd.concat([df_c1_{i-1},df_c2_{i-1}], ignore_index=True)\n",
    "df_new_edges_new_to_historic_nodes = new_nodes_c.merge(df_c,how='cross') \n",
    "''')                  \n",
    "        # dataframe containing the new set of historic nodes for the next iteration\n",
    "        df_stack = pd.concat([df_stack,df_new_edges_for_new_nodes], ignore_index=True)  # -> correcly determined\n",
    "        df_stack = pd.concat([df_stack,df_new_edges_new_to_historic_nodes], ignore_index=True)   \n",
    "    return df_stack  "
   ]
  },
  {
   "cell_type": "code",
   "execution_count": 24,
   "id": "227e1105",
   "metadata": {},
   "outputs": [],
   "source": [
    "def gen_new_nodes_dfs_per_cam(cam,frame):\n",
    "    exec(f'''global new_nodes_c{cam}\n",
    "new_nodes_c{cam} = df_c{cam}_{frame}[num_nodes_c{cam}[frame-1]:num_nodes_c{cam}[frame]+1]\n",
    "''')"
   ]
  },
  {
   "cell_type": "code",
   "execution_count": 25,
   "id": "ab00c740",
   "metadata": {
    "scrolled": false
   },
   "outputs": [
    {
     "data": {
      "text/html": [
       "<div>\n",
       "<style scoped>\n",
       "    .dataframe tbody tr th:only-of-type {\n",
       "        vertical-align: middle;\n",
       "    }\n",
       "\n",
       "    .dataframe tbody tr th {\n",
       "        vertical-align: top;\n",
       "    }\n",
       "\n",
       "    .dataframe thead th {\n",
       "        text-align: right;\n",
       "    }\n",
       "</style>\n",
       "<table border=\"1\" class=\"dataframe\">\n",
       "  <thead>\n",
       "    <tr style=\"text-align: right;\">\n",
       "      <th></th>\n",
       "      <th>node_ID_x</th>\n",
       "      <th>person_ID_x</th>\n",
       "      <th>node_ID_y</th>\n",
       "      <th>person_ID_y</th>\n",
       "    </tr>\n",
       "  </thead>\n",
       "  <tbody>\n",
       "    <tr>\n",
       "      <th>0</th>\n",
       "      <td>0</td>\n",
       "      <td>0000</td>\n",
       "      <td>32</td>\n",
       "      <td>0002</td>\n",
       "    </tr>\n",
       "    <tr>\n",
       "      <th>1</th>\n",
       "      <td>0</td>\n",
       "      <td>0000</td>\n",
       "      <td>33</td>\n",
       "      <td>0005</td>\n",
       "    </tr>\n",
       "    <tr>\n",
       "      <th>2</th>\n",
       "      <td>0</td>\n",
       "      <td>0000</td>\n",
       "      <td>34</td>\n",
       "      <td>0010</td>\n",
       "    </tr>\n",
       "    <tr>\n",
       "      <th>3</th>\n",
       "      <td>0</td>\n",
       "      <td>0000</td>\n",
       "      <td>35</td>\n",
       "      <td>0012</td>\n",
       "    </tr>\n",
       "    <tr>\n",
       "      <th>4</th>\n",
       "      <td>0</td>\n",
       "      <td>0000</td>\n",
       "      <td>36</td>\n",
       "      <td>0013</td>\n",
       "    </tr>\n",
       "    <tr>\n",
       "      <th>...</th>\n",
       "      <td>...</td>\n",
       "      <td>...</td>\n",
       "      <td>...</td>\n",
       "      <td>...</td>\n",
       "    </tr>\n",
       "    <tr>\n",
       "      <th>115930</th>\n",
       "      <td>494</td>\n",
       "      <td>0383</td>\n",
       "      <td>442</td>\n",
       "      <td>0044</td>\n",
       "    </tr>\n",
       "    <tr>\n",
       "      <th>115931</th>\n",
       "      <td>494</td>\n",
       "      <td>0383</td>\n",
       "      <td>443</td>\n",
       "      <td>0122</td>\n",
       "    </tr>\n",
       "    <tr>\n",
       "      <th>115932</th>\n",
       "      <td>494</td>\n",
       "      <td>0383</td>\n",
       "      <td>444</td>\n",
       "      <td>0151</td>\n",
       "    </tr>\n",
       "    <tr>\n",
       "      <th>115933</th>\n",
       "      <td>494</td>\n",
       "      <td>0383</td>\n",
       "      <td>445</td>\n",
       "      <td>0247</td>\n",
       "    </tr>\n",
       "    <tr>\n",
       "      <th>115934</th>\n",
       "      <td>494</td>\n",
       "      <td>0383</td>\n",
       "      <td>446</td>\n",
       "      <td>0383</td>\n",
       "    </tr>\n",
       "  </tbody>\n",
       "</table>\n",
       "<p>115935 rows × 4 columns</p>\n",
       "</div>"
      ],
      "text/plain": [
       "        node_ID_x person_ID_x  node_ID_y person_ID_y\n",
       "0               0        0000         32        0002\n",
       "1               0        0000         33        0005\n",
       "2               0        0000         34        0010\n",
       "3               0        0000         35        0012\n",
       "4               0        0000         36        0013\n",
       "...           ...         ...        ...         ...\n",
       "115930        494        0383        442        0044\n",
       "115931        494        0383        443        0122\n",
       "115932        494        0383        444        0151\n",
       "115933        494        0383        445        0247\n",
       "115934        494        0383        446        0383\n",
       "\n",
       "[115935 rows x 4 columns]"
      ]
     },
     "execution_count": 25,
     "metadata": {},
     "output_type": "execute_result"
    }
   ],
   "source": [
    "b = generate_temporal_dataframes(n_frames)    \n",
    "b"
   ]
  },
  {
   "cell_type": "code",
   "execution_count": 26,
   "id": "71bd7cf7",
   "metadata": {},
   "outputs": [],
   "source": [
    "#b.to_excel(\"dataframe_adjusted_node_ordering.xlsx\") "
   ]
  },
  {
   "cell_type": "markdown",
   "id": "ffc3f414",
   "metadata": {},
   "source": [
    "#### Create the Edge Labels\n",
    "We first check if one node ID was used more than 1 time. Spoiler: all node IDs are unique."
   ]
  },
  {
   "cell_type": "code",
   "execution_count": 27,
   "id": "8a8d3c2a",
   "metadata": {
    "scrolled": false
   },
   "outputs": [
    {
     "data": {
      "text/html": [
       "<div>\n",
       "<style scoped>\n",
       "    .dataframe tbody tr th:only-of-type {\n",
       "        vertical-align: middle;\n",
       "    }\n",
       "\n",
       "    .dataframe tbody tr th {\n",
       "        vertical-align: top;\n",
       "    }\n",
       "\n",
       "    .dataframe thead th {\n",
       "        text-align: right;\n",
       "    }\n",
       "</style>\n",
       "<table border=\"1\" class=\"dataframe\">\n",
       "  <thead>\n",
       "    <tr style=\"text-align: right;\">\n",
       "      <th></th>\n",
       "      <th>node_ID_x</th>\n",
       "      <th>person_ID_x</th>\n",
       "      <th>node_ID_y</th>\n",
       "      <th>person_ID_y</th>\n",
       "    </tr>\n",
       "  </thead>\n",
       "  <tbody>\n",
       "  </tbody>\n",
       "</table>\n",
       "</div>"
      ],
      "text/plain": [
       "Empty DataFrame\n",
       "Columns: [node_ID_x, person_ID_x, node_ID_y, person_ID_y]\n",
       "Index: []"
      ]
     },
     "execution_count": 27,
     "metadata": {},
     "output_type": "execute_result"
    }
   ],
   "source": [
    "b.loc[(b['node_ID_x'] == b['node_ID_y'])]"
   ]
  },
  {
   "cell_type": "markdown",
   "id": "08a350dd",
   "metadata": {},
   "source": [
    "If the node_IDs correspond to the same person ID set the corresponding edge label to `1`. Else to `0`."
   ]
  },
  {
   "cell_type": "code",
   "execution_count": 28,
   "id": "7b97b6cb",
   "metadata": {},
   "outputs": [
    {
     "data": {
      "text/html": [
       "<div>\n",
       "<style scoped>\n",
       "    .dataframe tbody tr th:only-of-type {\n",
       "        vertical-align: middle;\n",
       "    }\n",
       "\n",
       "    .dataframe tbody tr th {\n",
       "        vertical-align: top;\n",
       "    }\n",
       "\n",
       "    .dataframe thead th {\n",
       "        text-align: right;\n",
       "    }\n",
       "</style>\n",
       "<table border=\"1\" class=\"dataframe\">\n",
       "  <thead>\n",
       "    <tr style=\"text-align: right;\">\n",
       "      <th></th>\n",
       "      <th>node_ID_x</th>\n",
       "      <th>person_ID_x</th>\n",
       "      <th>node_ID_y</th>\n",
       "      <th>person_ID_y</th>\n",
       "      <th>labels</th>\n",
       "    </tr>\n",
       "  </thead>\n",
       "  <tbody>\n",
       "    <tr>\n",
       "      <th>0</th>\n",
       "      <td>0</td>\n",
       "      <td>0000</td>\n",
       "      <td>32</td>\n",
       "      <td>0002</td>\n",
       "      <td>0</td>\n",
       "    </tr>\n",
       "    <tr>\n",
       "      <th>1</th>\n",
       "      <td>0</td>\n",
       "      <td>0000</td>\n",
       "      <td>33</td>\n",
       "      <td>0005</td>\n",
       "      <td>0</td>\n",
       "    </tr>\n",
       "    <tr>\n",
       "      <th>2</th>\n",
       "      <td>0</td>\n",
       "      <td>0000</td>\n",
       "      <td>34</td>\n",
       "      <td>0010</td>\n",
       "      <td>0</td>\n",
       "    </tr>\n",
       "    <tr>\n",
       "      <th>3</th>\n",
       "      <td>0</td>\n",
       "      <td>0000</td>\n",
       "      <td>35</td>\n",
       "      <td>0012</td>\n",
       "      <td>0</td>\n",
       "    </tr>\n",
       "    <tr>\n",
       "      <th>4</th>\n",
       "      <td>0</td>\n",
       "      <td>0000</td>\n",
       "      <td>36</td>\n",
       "      <td>0013</td>\n",
       "      <td>0</td>\n",
       "    </tr>\n",
       "    <tr>\n",
       "      <th>...</th>\n",
       "      <td>...</td>\n",
       "      <td>...</td>\n",
       "      <td>...</td>\n",
       "      <td>...</td>\n",
       "      <td>...</td>\n",
       "    </tr>\n",
       "    <tr>\n",
       "      <th>115930</th>\n",
       "      <td>494</td>\n",
       "      <td>0383</td>\n",
       "      <td>442</td>\n",
       "      <td>0044</td>\n",
       "      <td>0</td>\n",
       "    </tr>\n",
       "    <tr>\n",
       "      <th>115931</th>\n",
       "      <td>494</td>\n",
       "      <td>0383</td>\n",
       "      <td>443</td>\n",
       "      <td>0122</td>\n",
       "      <td>0</td>\n",
       "    </tr>\n",
       "    <tr>\n",
       "      <th>115932</th>\n",
       "      <td>494</td>\n",
       "      <td>0383</td>\n",
       "      <td>444</td>\n",
       "      <td>0151</td>\n",
       "      <td>0</td>\n",
       "    </tr>\n",
       "    <tr>\n",
       "      <th>115933</th>\n",
       "      <td>494</td>\n",
       "      <td>0383</td>\n",
       "      <td>445</td>\n",
       "      <td>0247</td>\n",
       "      <td>0</td>\n",
       "    </tr>\n",
       "    <tr>\n",
       "      <th>115934</th>\n",
       "      <td>494</td>\n",
       "      <td>0383</td>\n",
       "      <td>446</td>\n",
       "      <td>0383</td>\n",
       "      <td>1</td>\n",
       "    </tr>\n",
       "  </tbody>\n",
       "</table>\n",
       "<p>115935 rows × 5 columns</p>\n",
       "</div>"
      ],
      "text/plain": [
       "        node_ID_x person_ID_x  node_ID_y person_ID_y  labels\n",
       "0               0        0000         32        0002       0\n",
       "1               0        0000         33        0005       0\n",
       "2               0        0000         34        0010       0\n",
       "3               0        0000         35        0012       0\n",
       "4               0        0000         36        0013       0\n",
       "...           ...         ...        ...         ...     ...\n",
       "115930        494        0383        442        0044       0\n",
       "115931        494        0383        443        0122       0\n",
       "115932        494        0383        444        0151       0\n",
       "115933        494        0383        445        0247       0\n",
       "115934        494        0383        446        0383       1\n",
       "\n",
       "[115935 rows x 5 columns]"
      ]
     },
     "execution_count": 28,
     "metadata": {},
     "output_type": "execute_result"
    }
   ],
   "source": [
    "b['labels'] = np.where((b['person_ID_x'] == b['person_ID_y']), 1, 0)\n",
    "b"
   ]
  },
  {
   "cell_type": "markdown",
   "id": "1eae97b2",
   "metadata": {},
   "source": [
    "We have 3573 edges with the label `1`."
   ]
  },
  {
   "cell_type": "code",
   "execution_count": 29,
   "id": "544d804b",
   "metadata": {},
   "outputs": [
    {
     "data": {
      "text/html": [
       "<div>\n",
       "<style scoped>\n",
       "    .dataframe tbody tr th:only-of-type {\n",
       "        vertical-align: middle;\n",
       "    }\n",
       "\n",
       "    .dataframe tbody tr th {\n",
       "        vertical-align: top;\n",
       "    }\n",
       "\n",
       "    .dataframe thead th {\n",
       "        text-align: right;\n",
       "    }\n",
       "</style>\n",
       "<table border=\"1\" class=\"dataframe\">\n",
       "  <thead>\n",
       "    <tr style=\"text-align: right;\">\n",
       "      <th></th>\n",
       "      <th>node_ID_x</th>\n",
       "      <th>person_ID_x</th>\n",
       "      <th>node_ID_y</th>\n",
       "      <th>person_ID_y</th>\n",
       "      <th>labels</th>\n",
       "    </tr>\n",
       "  </thead>\n",
       "  <tbody>\n",
       "    <tr>\n",
       "      <th>36</th>\n",
       "      <td>2</td>\n",
       "      <td>0002</td>\n",
       "      <td>32</td>\n",
       "      <td>0002</td>\n",
       "      <td>1</td>\n",
       "    </tr>\n",
       "    <tr>\n",
       "      <th>91</th>\n",
       "      <td>5</td>\n",
       "      <td>0005</td>\n",
       "      <td>33</td>\n",
       "      <td>0005</td>\n",
       "      <td>1</td>\n",
       "    </tr>\n",
       "    <tr>\n",
       "      <th>164</th>\n",
       "      <td>9</td>\n",
       "      <td>0010</td>\n",
       "      <td>34</td>\n",
       "      <td>0010</td>\n",
       "      <td>1</td>\n",
       "    </tr>\n",
       "    <tr>\n",
       "      <th>183</th>\n",
       "      <td>10</td>\n",
       "      <td>0012</td>\n",
       "      <td>35</td>\n",
       "      <td>0012</td>\n",
       "      <td>1</td>\n",
       "    </tr>\n",
       "    <tr>\n",
       "      <th>202</th>\n",
       "      <td>11</td>\n",
       "      <td>0013</td>\n",
       "      <td>36</td>\n",
       "      <td>0013</td>\n",
       "      <td>1</td>\n",
       "    </tr>\n",
       "    <tr>\n",
       "      <th>...</th>\n",
       "      <td>...</td>\n",
       "      <td>...</td>\n",
       "      <td>...</td>\n",
       "      <td>...</td>\n",
       "      <td>...</td>\n",
       "    </tr>\n",
       "    <tr>\n",
       "      <th>115860</th>\n",
       "      <td>494</td>\n",
       "      <td>0383</td>\n",
       "      <td>248</td>\n",
       "      <td>0383</td>\n",
       "      <td>1</td>\n",
       "    </tr>\n",
       "    <tr>\n",
       "      <th>115879</th>\n",
       "      <td>494</td>\n",
       "      <td>0383</td>\n",
       "      <td>300</td>\n",
       "      <td>0383</td>\n",
       "      <td>1</td>\n",
       "    </tr>\n",
       "    <tr>\n",
       "      <th>115897</th>\n",
       "      <td>494</td>\n",
       "      <td>0383</td>\n",
       "      <td>348</td>\n",
       "      <td>0383</td>\n",
       "      <td>1</td>\n",
       "    </tr>\n",
       "    <tr>\n",
       "      <th>115915</th>\n",
       "      <td>494</td>\n",
       "      <td>0383</td>\n",
       "      <td>396</td>\n",
       "      <td>0383</td>\n",
       "      <td>1</td>\n",
       "    </tr>\n",
       "    <tr>\n",
       "      <th>115934</th>\n",
       "      <td>494</td>\n",
       "      <td>0383</td>\n",
       "      <td>446</td>\n",
       "      <td>0383</td>\n",
       "      <td>1</td>\n",
       "    </tr>\n",
       "  </tbody>\n",
       "</table>\n",
       "<p>3573 rows × 5 columns</p>\n",
       "</div>"
      ],
      "text/plain": [
       "        node_ID_x person_ID_x  node_ID_y person_ID_y  labels\n",
       "36              2        0002         32        0002       1\n",
       "91              5        0005         33        0005       1\n",
       "164             9        0010         34        0010       1\n",
       "183            10        0012         35        0012       1\n",
       "202            11        0013         36        0013       1\n",
       "...           ...         ...        ...         ...     ...\n",
       "115860        494        0383        248        0383       1\n",
       "115879        494        0383        300        0383       1\n",
       "115897        494        0383        348        0383       1\n",
       "115915        494        0383        396        0383       1\n",
       "115934        494        0383        446        0383       1\n",
       "\n",
       "[3573 rows x 5 columns]"
      ]
     },
     "execution_count": 29,
     "metadata": {},
     "output_type": "execute_result"
    }
   ],
   "source": [
    "b.loc[b['labels'] == 1]"
   ]
  },
  {
   "cell_type": "markdown",
   "id": "08a90b69",
   "metadata": {},
   "source": [
    "#### Generate the Edge List and Edge Label List\n",
    "Based on the dataframe `b` that contains sub-dataframes that correspond to each snapshot we create the edge list and edge label list. Both lists contain numpy arrays each of which corresponds to one snapshot. In the process, we introduce the edge weight matrix and initialize it with all ones for each snapshot to indicate that we are dealing with unweighted graphs in each snapshot."
   ]
  },
  {
   "cell_type": "code",
   "execution_count": 30,
   "id": "2814300e",
   "metadata": {},
   "outputs": [],
   "source": [
    "edge_indices = []\n",
    "edge_labels = []\n",
    "edge_weights = []"
   ]
  },
  {
   "cell_type": "code",
   "execution_count": 31,
   "id": "abf98afa",
   "metadata": {},
   "outputs": [],
   "source": [
    "source_nodes = b['node_ID_x'].to_list()\n",
    "target_nodes = b['node_ID_y'].to_list()"
   ]
  },
  {
   "cell_type": "code",
   "execution_count": 32,
   "id": "70d76732",
   "metadata": {},
   "outputs": [
    {
     "data": {
      "text/plain": [
       "[576, 3584, 8747, 16966, 27658, 41233, 56221, 73513, 93952, 115935]"
      ]
     },
     "execution_count": 32,
     "metadata": {},
     "output_type": "execute_result"
    }
   ],
   "source": [
    "num_edges_per_snapshot"
   ]
  },
  {
   "cell_type": "code",
   "execution_count": 33,
   "id": "8a106ee6",
   "metadata": {},
   "outputs": [],
   "source": [
    "for i in range(0,n_frames):\n",
    "    e_snap = np.transpose(np.array([list(a) for a in zip(source_nodes[0:num_edges_per_snapshot[i]], target_nodes[0:num_edges_per_snapshot[i]])]))\n",
    "    edge_indices.append(e_snap)\n",
    "    \n",
    "    l_snap = np.array(b['labels'][0:num_edges_per_snapshot[i]])\n",
    "    edge_labels.append(l_snap)\n",
    "    \n",
    "    edge_weights.append(np.ones(l_snap.size))"
   ]
  },
  {
   "cell_type": "code",
   "execution_count": 34,
   "id": "acbf2b02",
   "metadata": {
    "scrolled": true
   },
   "outputs": [
    {
     "data": {
      "text/plain": [
       "[array([[ 0,  0,  0, ..., 31, 31, 31],\n",
       "        [32, 33, 34, ..., 47, 48, 49]]),\n",
       " array([[ 0,  0,  0, ..., 98, 98, 98],\n",
       "        [32, 33, 34, ..., 47, 48, 49]]),\n",
       " array([[  0,   0,   0, ..., 145, 145, 145],\n",
       "        [ 32,  33,  34, ...,  96,  97,  98]]),\n",
       " array([[  0,   0,   0, ..., 197, 197, 197],\n",
       "        [ 32,  33,  34, ..., 143, 144, 145]]),\n",
       " array([[  0,   0,   0, ..., 248, 248, 248],\n",
       "        [ 32,  33,  34, ..., 195, 196, 197]]),\n",
       " array([[  0,   0,   0, ..., 300, 300, 300],\n",
       "        [ 32,  33,  34, ..., 246, 247, 248]]),\n",
       " array([[  0,   0,   0, ..., 348, 348, 348],\n",
       "        [ 32,  33,  34, ..., 298, 299, 300]]),\n",
       " array([[  0,   0,   0, ..., 396, 396, 396],\n",
       "        [ 32,  33,  34, ..., 346, 347, 348]]),\n",
       " array([[  0,   0,   0, ..., 446, 446, 446],\n",
       "        [ 32,  33,  34, ..., 394, 395, 396]]),\n",
       " array([[  0,   0,   0, ..., 494, 494, 494],\n",
       "        [ 32,  33,  34, ..., 444, 445, 446]])]"
      ]
     },
     "execution_count": 34,
     "metadata": {},
     "output_type": "execute_result"
    }
   ],
   "source": [
    "edge_indices"
   ]
  },
  {
   "cell_type": "markdown",
   "id": "de568bf2",
   "metadata": {},
   "source": [
    "### 4. Extract Node Features and Node Labels\n",
    "We start by recalling the number of total nodes in each snapshot as given in `num_nodes_c1` amd `num_nodes_c2`. We insert 0s again to these lists."
   ]
  },
  {
   "cell_type": "code",
   "execution_count": 35,
   "id": "d7b9df63",
   "metadata": {},
   "outputs": [],
   "source": [
    "features = []\n",
    "targets = [] # node labels"
   ]
  },
  {
   "cell_type": "code",
   "execution_count": 36,
   "id": "fc85253f",
   "metadata": {},
   "outputs": [],
   "source": [
    "num_nodes_c1.insert(0, 0)\n",
    "num_nodes_c2.insert(0, 0)"
   ]
  },
  {
   "cell_type": "code",
   "execution_count": 37,
   "id": "27c862cc",
   "metadata": {},
   "outputs": [
    {
     "data": {
      "text/plain": [
       "[0, 32, 63, 93, 126, 159, 192, 222, 252, 283, 314]"
      ]
     },
     "execution_count": 37,
     "metadata": {},
     "output_type": "execute_result"
    }
   ],
   "source": [
    "num_nodes_c1"
   ]
  },
  {
   "cell_type": "code",
   "execution_count": 38,
   "id": "fccc0ce0",
   "metadata": {},
   "outputs": [
    {
     "data": {
      "text/plain": [
       "[0, 18, 36, 53, 72, 90, 109, 127, 145, 164, 181]"
      ]
     },
     "execution_count": 38,
     "metadata": {},
     "output_type": "execute_result"
    }
   ],
   "source": [
    "num_nodes_c2"
   ]
  },
  {
   "cell_type": "markdown",
   "id": "c952ffa4",
   "metadata": {},
   "source": [
    "We now explot the node ordering we imposed at the beginning of this notebook."
   ]
  },
  {
   "cell_type": "code",
   "execution_count": 39,
   "id": "b23674b7",
   "metadata": {},
   "outputs": [],
   "source": [
    "features_snap = ()\n",
    "features = []\n",
    "\n",
    "targets_snap = []\n",
    "targets = []\n",
    "\n",
    "for i in range(n_frames):\n",
    "    reid_c1 = re_id_c1[num_nodes_c1[i]:num_nodes_c1[i+1]]\n",
    "    reid_c2 = re_id_c2[num_nodes_c2[i]:num_nodes_c2[i+1]]\n",
    "    \n",
    "    features_snap = features_snap + reid_c1 + reid_c2\n",
    "    features.append(features_snap)\n",
    "    \n",
    "    target_c1 = np.array(person_ID_c1[num_nodes_c1[i]:num_nodes_c1[i+1]])\n",
    "    target_c2 = np.array(person_ID_c2[num_nodes_c2[i]:num_nodes_c2[i+1]])\n",
    "    \n",
    "    targets_snap = np.concatenate([targets_snap,target_c1,target_c2])\n",
    "    targets.append(targets_snap)"
   ]
  },
  {
   "cell_type": "code",
   "execution_count": 40,
   "id": "b091027f",
   "metadata": {},
   "outputs": [
    {
     "name": "stdout",
     "output_type": "stream",
     "text": [
      "495\n"
     ]
    }
   ],
   "source": [
    "print(len(targets[9]))"
   ]
  },
  {
   "cell_type": "markdown",
   "id": "00af8736",
   "metadata": {},
   "source": [
    "### 5. Generate the Temporal Graph Dataset\n",
    "We choose the iterator `DynamicGraphTemporalSignal` and pass the computed parameters."
   ]
  },
  {
   "cell_type": "code",
   "execution_count": 46,
   "id": "9dff1603",
   "metadata": {},
   "outputs": [],
   "source": [
    "from torch_geometric_temporal.signal import DynamicGraphTemporalSignal\n",
    "from torch_geometric_temporal.signal import temporal_signal_split"
   ]
  },
  {
   "cell_type": "code",
   "execution_count": 42,
   "id": "8e821686",
   "metadata": {},
   "outputs": [],
   "source": [
    "tg_dataset = DynamicGraphTemporalSignal(edge_indices=edge_indices,\n",
    "                                        edge_weights=edge_weights,\n",
    "                                        features=features,\n",
    "                                        targets=targets,\n",
    "                                        edge_labels=edge_labels\n",
    "            )"
   ]
  },
  {
   "cell_type": "markdown",
   "id": "fcd12c28",
   "metadata": {},
   "source": [
    "Splits iterator in the temporal dimension using a pre-set ratio. "
   ]
  },
  {
   "cell_type": "code",
   "execution_count": 43,
   "id": "d697c828",
   "metadata": {},
   "outputs": [],
   "source": [
    "train_dataset, test_dataset = temporal_signal_split(tg_dataset, train_ratio=0.8)"
   ]
  },
  {
   "cell_type": "code",
   "execution_count": 47,
   "id": "1168575e",
   "metadata": {},
   "outputs": [
    {
     "name": "stdout",
     "output_type": "stream",
     "text": [
      "Data(x=[50, 2048], edge_index=[2, 576], edge_attr=[576], edge_labels=[576])\n",
      "Data(x=[99, 2048], edge_index=[2, 3584], edge_attr=[3584], edge_labels=[3584])\n",
      "Data(x=[146, 2048], edge_index=[2, 8747], edge_attr=[8747], edge_labels=[8747])\n",
      "Data(x=[198, 2048], edge_index=[2, 16966], edge_attr=[16966], edge_labels=[16966])\n",
      "Data(x=[249, 2048], edge_index=[2, 27658], edge_attr=[27658], edge_labels=[27658])\n",
      "Data(x=[301, 2048], edge_index=[2, 41233], edge_attr=[41233], edge_labels=[41233])\n",
      "Data(x=[349, 2048], edge_index=[2, 56221], edge_attr=[56221], edge_labels=[56221])\n",
      "Data(x=[397, 2048], edge_index=[2, 73513], edge_attr=[73513], edge_labels=[73513])\n",
      "Data(x=[447, 2048], edge_index=[2, 93952], edge_attr=[93952], edge_labels=[93952])\n",
      "Data(x=[495, 2048], edge_index=[2, 115935], edge_attr=[115935], edge_labels=[115935])\n"
     ]
    }
   ],
   "source": [
    "for i in tg_dataset:\n",
    "    print(i)"
   ]
  },
  {
   "cell_type": "code",
   "execution_count": 45,
   "id": "fcd4889a",
   "metadata": {},
   "outputs": [],
   "source": [
    "import torch\n",
    "#torch.save(tg_dataset, f'tg_dataset_2c-{n_frames}frames.pt')"
   ]
  }
 ],
 "metadata": {
  "kernelspec": {
   "display_name": "Python 3 (ipykernel)",
   "language": "python",
   "name": "python3"
  },
  "language_info": {
   "codemirror_mode": {
    "name": "ipython",
    "version": 3
   },
   "file_extension": ".py",
   "mimetype": "text/x-python",
   "name": "python",
   "nbconvert_exporter": "python",
   "pygments_lexer": "ipython3",
   "version": "3.8.10"
  }
 },
 "nbformat": 4,
 "nbformat_minor": 5
}
